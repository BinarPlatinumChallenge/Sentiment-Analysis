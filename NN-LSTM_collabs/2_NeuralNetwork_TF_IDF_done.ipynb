{
  "cells": [
    {
      "cell_type": "markdown",
      "metadata": {
        "id": "view-in-github",
        "colab_type": "text"
      },
      "source": [
        "<a href=\"https://colab.research.google.com/github/BinarPlatinumChallenge/Sentiment-Analysis/blob/main/NN-LSTM_collabs/2_NeuralNetwork_TF_IDF_done.ipynb\" target=\"_parent\"><img src=\"https://colab.research.google.com/assets/colab-badge.svg\" alt=\"Open In Colab\"/></a>"
      ]
    },
    {
      "cell_type": "markdown",
      "source": [
        "# **PREPARE DATASET**"
      ],
      "metadata": {
        "id": "zGa0ozrI4ttZ"
      }
    },
    {
      "cell_type": "code",
      "execution_count": null,
      "metadata": {
        "colab": {
          "base_uri": "https://localhost:8080/"
        },
        "id": "tifRlpymeF-w",
        "outputId": "7387b617-eb56-4d2b-b714-0f717a52feee"
      },
      "outputs": [
        {
          "output_type": "stream",
          "name": "stdout",
          "text": [
            "Mounted at /content/drive\n"
          ]
        }
      ],
      "source": [
        "# mounting to google drive\n",
        "\n",
        "from google.colab import drive\n",
        "drive.mount('/content/drive')"
      ]
    },
    {
      "cell_type": "code",
      "source": [
        "# Install libraries for stopwords\n",
        "\n",
        "!pip install nltk\n",
        "!pip install Sastrawi"
      ],
      "metadata": {
        "colab": {
          "base_uri": "https://localhost:8080/"
        },
        "id": "h1iS2YrtBb9O",
        "outputId": "408e2807-a788-48b5-f1e9-e633b31f92ea"
      },
      "execution_count": null,
      "outputs": [
        {
          "output_type": "stream",
          "name": "stdout",
          "text": [
            "Looking in indexes: https://pypi.org/simple, https://us-python.pkg.dev/colab-wheels/public/simple/\n",
            "Requirement already satisfied: nltk in /usr/local/lib/python3.8/dist-packages (3.7)\n",
            "Requirement already satisfied: click in /usr/local/lib/python3.8/dist-packages (from nltk) (8.1.3)\n",
            "Requirement already satisfied: joblib in /usr/local/lib/python3.8/dist-packages (from nltk) (1.2.0)\n",
            "Requirement already satisfied: tqdm in /usr/local/lib/python3.8/dist-packages (from nltk) (4.64.1)\n",
            "Requirement already satisfied: regex>=2021.8.3 in /usr/local/lib/python3.8/dist-packages (from nltk) (2022.6.2)\n",
            "Looking in indexes: https://pypi.org/simple, https://us-python.pkg.dev/colab-wheels/public/simple/\n",
            "Collecting Sastrawi\n",
            "  Downloading Sastrawi-1.0.1-py2.py3-none-any.whl (209 kB)\n",
            "\u001b[2K     \u001b[90m━━━━━━━━━━━━━━━━━━━━━━━━━━━━━━━━━━━━━━━\u001b[0m \u001b[32m209.7/209.7 KB\u001b[0m \u001b[31m5.6 MB/s\u001b[0m eta \u001b[36m0:00:00\u001b[0m\n",
            "\u001b[?25hInstalling collected packages: Sastrawi\n",
            "Successfully installed Sastrawi-1.0.1\n"
          ]
        }
      ]
    },
    {
      "cell_type": "markdown",
      "source": [
        "## **Download Dataset**\n",
        "\n",
        "Raw data traning can be downloaded with this [link](https://drive.google.com/file/d/1RCHGfn9JJyyReAh8PIIoF8Ch0H3miP0u/view)\n",
        "\n",
        "Raw data set hates speech, file kamus alay dan stopwords can be downloaded in this [link](https://drive.google.com/drive/folders/1qm50pKAnzGGw9gtk--lmwR758aZOVish) "
      ],
      "metadata": {
        "id": "Kf42UyBl5HQs"
      }
    },
    {
      "cell_type": "code",
      "execution_count": null,
      "metadata": {
        "id": "o6qPPwZXgA0W"
      },
      "outputs": [],
      "source": [
        "# Libraries to read and analyze data frame\n",
        "# Read raw dataset used for training the model from google drive\n",
        "\n",
        "import pandas as pd\n",
        "df = pd.read_csv('/content/drive/MyDrive/CHALLENGE_PLATINUM/train_preprocess.tsv.txt', delimiter='\\t', header=0, names=['tweet','sentimen'])\n",
        "\n",
        "# Eliminated null and duplicated data\n",
        "df = df.dropna()\n",
        "df = df.drop_duplicates(ignore_index=True)"
      ]
    },
    {
      "cell_type": "code",
      "execution_count": null,
      "metadata": {
        "id": "ck6evefY2jfN",
        "colab": {
          "base_uri": "https://localhost:8080/"
        },
        "outputId": "16c1f72f-05f1-4ba4-b81a-ddae29e622c1"
      },
      "outputs": [
        {
          "output_type": "stream",
          "name": "stderr",
          "text": [
            "[nltk_data] Downloading package stopwords to /root/nltk_data...\n",
            "[nltk_data]   Package stopwords is already up-to-date!\n"
          ]
        }
      ],
      "source": [
        "# import library to handle stopwords using NLTK\n",
        "\n",
        "import nltk\n",
        "nltk.download('stopwords')\n",
        "from nltk.corpus import stopwords\n",
        "from nltk.tokenize import word_tokenize\n",
        "stop_words=(stopwords.words('indonesian'))"
      ]
    },
    {
      "cell_type": "code",
      "execution_count": null,
      "metadata": {
        "id": "Xtnqyqjo3Fw7"
      },
      "outputs": [],
      "source": [
        "# import library to handle stopwords using sastrawi\n",
        "\n",
        "from Sastrawi.StopWordRemover.StopWordRemoverFactory import StopWordRemoverFactory\n",
        "stop_factory = StopWordRemoverFactory()\n",
        "sastrawi_stop_words = stop_factory.get_stop_words()\n",
        "from Sastrawi.Stemmer.StemmerFactory import StemmerFactory\n",
        "factory = StemmerFactory()\n",
        "stemmer = factory.create_stemmer()"
      ]
    },
    {
      "cell_type": "code",
      "execution_count": null,
      "metadata": {
        "colab": {
          "base_uri": "https://localhost:8080/"
        },
        "id": "V9T3k_W17J8O",
        "outputId": "c1749b27-89c1-49e7-d862-85c4d9a140c3"
      },
      "outputs": [
        {
          "output_type": "stream",
          "name": "stdout",
          "text": [
            "781\n"
          ]
        }
      ],
      "source": [
        "# merge stopwords dictionary from NLTK, sastrawi, and raw file \"stopwordbahasa.csv\"\n",
        "# add {'ya','yg','ga','yuk','dah','sih','gue','nya','nih'} in stopwords dict set\n",
        "# eliminated word \"tidak\" from stopwords dict set to avoid changing the meaning of the sentence \n",
        "\n",
        "stopword_dict = pd.read_csv('/content/drive/MyDrive/CHALLENGE_PLATINUM/stopwordbahasa.csv', header=None, names=['stopword'], encoding='latin-1')\n",
        "stopword_dict = list(stopword_dict['stopword']) + sastrawi_stop_words + stop_words + ['ya','yg','ga','yuk','dah','sih','gue','nya','nih']\n",
        "stopword_dict = list(dict.fromkeys(stopword_dict))\n",
        "stopword_dict = filter(lambda word: word !='tidak', stopword_dict)\n",
        "stopword_dict = list(stopword_dict)\n",
        "print(len(stopword_dict))"
      ]
    },
    {
      "cell_type": "code",
      "execution_count": null,
      "metadata": {
        "id": "P3Q-jbTfkKer"
      },
      "outputs": [],
      "source": [
        "# import library to handle stopwords using NLTK\n",
        "\n",
        "import re\n",
        "def lowercase(text): #1\n",
        "  text = text.strip() \n",
        "  return text.lower()\n",
        "\n",
        "def remove_unnecessary_char(text): #2\n",
        "  text = re.sub('\\\\+n', ' ', text) # remove every new line\n",
        "  text = re.sub('\\n',\" \",text) # remove every single new line\n",
        "  text = re.sub('\\\\+', ' ', text) # remomove unessessary character\n",
        "  text = re.sub(r'\\brt\\b','', text) # r'\\b...\\b to remove certain word, only at the beginning or end of the word for 'rt' \n",
        "  text = re.sub(r'\\buser\\b','', text) # r'\\b...\\b to remove certain word, only at the beginning or end of the word for 'user'\n",
        "  text = re.sub(r'\\bnurl\\b','', text)\n",
        "  text = re.sub('&lt;/?[a-z]+&gt;', '', text) #remove special characters\n",
        "  text = re.sub('&amp', '', text) #remove ampersand character\n",
        "  text = re.sub('((www\\.[^\\s]+)|(https?://[^\\s]+)|(http?://[^\\s]+))',' ',text) # remomove unessessary character \n",
        "  text = re.sub(':', ' ', text) # remomove special character \n",
        "  text = re.sub(';', ' ', text) \n",
        "  text = re.sub('  +', ' ', text) \n",
        "  text = re.sub(r'pic.twitter.com.[\\w]+', '', text) # remomove unessessary character \n",
        "  text = re.sub(r'[^\\x00-\\x7F]+',' ', text)  \n",
        "  text = re.sub(r'‚Ä¶', '', text)  \n",
        "  to_delete = ['hypertext', 'transfer', 'protocol', 'over', 'secure', 'socket', 'layer', 'dtype', 'tweet', 'name', 'object'\n",
        "                 ,'twitter','com', 'pic'] # delete another unessessary words\n",
        "  for word in to_delete: \n",
        "      text = re.sub(word,'', text) # remove extra space\n",
        "      text = re.sub(word.upper(),' ',text)\n",
        "  return text\n",
        "\n",
        "def remove_nonaplhanumeric(text): #3\n",
        "    text = re.sub('[^0-9a-zA-Z]+', ' ', text) \n",
        "    return text\n",
        "\n",
        "def remove_emoticon_byte(text): #4\n",
        "    text = text.replace(\"\\\\\", \" \")\n",
        "    text = re.sub(r'\\bx..', ' ', text)\n",
        "    text = re.sub(' n ', ' ', text)\n",
        "    return text\n",
        "\n",
        "def remove_early_space(text): #5\n",
        "    if text[0] == ' ':\n",
        "        return text[1:]\n",
        "    else:\n",
        "        return text\n",
        "\n",
        "def remove_number(text): #6\n",
        "    text = ''.join([i for i in text if not i.isdigit()])\n",
        "    text = re.sub('  +', ' ', text)\n",
        "    text = text.strip()\n",
        "    return text\n",
        "\n",
        "# handle special word \"tidak\" --> \"tidak_\" to avoid changing the meaning of the sentance\n",
        "\n",
        "def handleTidak(text): #7\n",
        "    words = text.split(' ')\n",
        "    text = ' '.join(['tidak_' if words[i] == 'tidak' else words[i] for i in range(len(words))])\n",
        "    text = text.strip()\n",
        "    text = text.replace('tidak_ ','tidak_')\n",
        "    return text\n"
      ]
    },
    {
      "cell_type": "code",
      "source": [
        "# text normalization \n",
        "\n",
        "def normalize_alay(text): #8\n",
        "    alay_dict = pd.read_csv('/content/drive/MyDrive/CHALLENGE_PLATINUM/new_kamusalay.csv', names=['original', 'replacement'], encoding='latin-1')\n",
        "    alay_dict_map = dict(zip(alay_dict['original'], alay_dict['replacement']))\n",
        "    normalize_text = ' '.join([alay_dict_map[word] if word in alay_dict_map else word for word in text.split(' ')])\n",
        "    return normalize_text\n",
        "\n",
        "def remove_stopword(text): #9\n",
        "    text = ' '.join(['' if word in stopword_dict else word for word in text.split(' ')])\n",
        "    text = re.sub('  +', ' ', text)\n",
        "    text = text.strip()\n",
        "    return text\n",
        "\n",
        "def stemming(text): #10\n",
        "    return stemmer.stem(text)"
      ],
      "metadata": {
        "id": "fBpKGUAQ8KDB"
      },
      "execution_count": null,
      "outputs": []
    },
    {
      "cell_type": "code",
      "source": [
        "# text cleansing process\n",
        "\n",
        "def cleanse_text(text):\n",
        "    text = lowercase(text) #1\n",
        "    text = remove_unnecessary_char(text) #2\n",
        "    text = remove_nonaplhanumeric(text) #3\n",
        "    text = remove_emoticon_byte(text) #4\n",
        "    text = remove_early_space(text) #5\n",
        "    text = remove_number(text) #6\n",
        "    text = normalize_alay(text) #8\n",
        "    text = remove_stopword(text) #9\n",
        "    text = stemming(text) #10\n",
        "    text = handleTidak(text) #7\n",
        "    return text\n"
      ],
      "metadata": {
        "id": "-SP0rpVi8Ulf"
      },
      "execution_count": null,
      "outputs": []
    },
    {
      "cell_type": "code",
      "execution_count": null,
      "metadata": {
        "colab": {
          "base_uri": "https://localhost:8080/",
          "height": 35
        },
        "id": "OxiVvUUmHMp7",
        "outputId": "c5ba2931-6de8-4ec2-8e41-daefb3452e8d"
      },
      "outputs": [
        {
          "output_type": "execute_result",
          "data": {
            "text/plain": [
              "'budaya kafir sungguh islam tidak_indah'"
            ],
            "application/vnd.google.colaboratory.intrinsic+json": {
              "type": "string"
            }
          },
          "metadata": {},
          "execution_count": 119
        }
      ],
      "source": [
        "# check cleansing result\n",
        "\n",
        "text = 'Budaya kafir bersungguh, klau hal2 islam tidak diendahkan...'\n",
        "cleaned_text = cleanse_text(text)\n",
        "cleaned_text"
      ]
    },
    {
      "cell_type": "code",
      "execution_count": null,
      "metadata": {
        "id": "7aa-uxFZTvmq"
      },
      "outputs": [],
      "source": [
        "# applied data cleansing process into dataframe\n",
        "\n",
        "df['cleaned_tweet'] = df.tweet.apply(cleanse_text)"
      ]
    },
    {
      "cell_type": "code",
      "source": [
        "# save clean dataset to google drive\n",
        "\n",
        "df.to_csv('/content/drive/MyDrive/CHALLENGE_PLATINUM/train_cleaned_preprocess.csv', header = True)\n",
        "df.head()"
      ],
      "metadata": {
        "id": "FToHucBmx8YY",
        "colab": {
          "base_uri": "https://localhost:8080/",
          "height": 206
        },
        "outputId": "28d35157-1790-43fd-a12e-577c3709eeb3"
      },
      "execution_count": null,
      "outputs": [
        {
          "output_type": "execute_result",
          "data": {
            "text/plain": [
              "                                               tweet  sentimen  \\\n",
              "0  mohon ulama lurus dan k212 mmbri hujjah partai...   neutral   \n",
              "1  lokasi strategis di jalan sumatera bandung . t...  positive   \n",
              "2  betapa bahagia nya diri ini saat unboxing pake...  positive   \n",
              "3  duh . jadi mahasiswa jangan sombong dong . kas...  negative   \n",
              "4  makanan beragam , harga makanan di food stall ...  positive   \n",
              "\n",
              "                                       cleaned_tweet  \n",
              "0  mohon ulama lurus k mmbri hujjah partai diwlh ...  \n",
              "1  lokasi strategis jalan sumatra bandung nyaman ...  \n",
              "2  betapa bahagia unboxing paket barang bagus tet...  \n",
              "3  aduh mahasiswa sombong kasih kartu kuning ajar...  \n",
              "4  makan agam harga makan food stall kasir suasan...  "
            ],
            "text/html": [
              "\n",
              "  <div id=\"df-fa5ac561-0d07-40fb-ae35-6769349538db\">\n",
              "    <div class=\"colab-df-container\">\n",
              "      <div>\n",
              "<style scoped>\n",
              "    .dataframe tbody tr th:only-of-type {\n",
              "        vertical-align: middle;\n",
              "    }\n",
              "\n",
              "    .dataframe tbody tr th {\n",
              "        vertical-align: top;\n",
              "    }\n",
              "\n",
              "    .dataframe thead th {\n",
              "        text-align: right;\n",
              "    }\n",
              "</style>\n",
              "<table border=\"1\" class=\"dataframe\">\n",
              "  <thead>\n",
              "    <tr style=\"text-align: right;\">\n",
              "      <th></th>\n",
              "      <th>tweet</th>\n",
              "      <th>sentimen</th>\n",
              "      <th>cleaned_tweet</th>\n",
              "    </tr>\n",
              "  </thead>\n",
              "  <tbody>\n",
              "    <tr>\n",
              "      <th>0</th>\n",
              "      <td>mohon ulama lurus dan k212 mmbri hujjah partai...</td>\n",
              "      <td>neutral</td>\n",
              "      <td>mohon ulama lurus k mmbri hujjah partai diwlh ...</td>\n",
              "    </tr>\n",
              "    <tr>\n",
              "      <th>1</th>\n",
              "      <td>lokasi strategis di jalan sumatera bandung . t...</td>\n",
              "      <td>positive</td>\n",
              "      <td>lokasi strategis jalan sumatra bandung nyaman ...</td>\n",
              "    </tr>\n",
              "    <tr>\n",
              "      <th>2</th>\n",
              "      <td>betapa bahagia nya diri ini saat unboxing pake...</td>\n",
              "      <td>positive</td>\n",
              "      <td>betapa bahagia unboxing paket barang bagus tet...</td>\n",
              "    </tr>\n",
              "    <tr>\n",
              "      <th>3</th>\n",
              "      <td>duh . jadi mahasiswa jangan sombong dong . kas...</td>\n",
              "      <td>negative</td>\n",
              "      <td>aduh mahasiswa sombong kasih kartu kuning ajar...</td>\n",
              "    </tr>\n",
              "    <tr>\n",
              "      <th>4</th>\n",
              "      <td>makanan beragam , harga makanan di food stall ...</td>\n",
              "      <td>positive</td>\n",
              "      <td>makan agam harga makan food stall kasir suasan...</td>\n",
              "    </tr>\n",
              "  </tbody>\n",
              "</table>\n",
              "</div>\n",
              "      <button class=\"colab-df-convert\" onclick=\"convertToInteractive('df-fa5ac561-0d07-40fb-ae35-6769349538db')\"\n",
              "              title=\"Convert this dataframe to an interactive table.\"\n",
              "              style=\"display:none;\">\n",
              "        \n",
              "  <svg xmlns=\"http://www.w3.org/2000/svg\" height=\"24px\"viewBox=\"0 0 24 24\"\n",
              "       width=\"24px\">\n",
              "    <path d=\"M0 0h24v24H0V0z\" fill=\"none\"/>\n",
              "    <path d=\"M18.56 5.44l.94 2.06.94-2.06 2.06-.94-2.06-.94-.94-2.06-.94 2.06-2.06.94zm-11 1L8.5 8.5l.94-2.06 2.06-.94-2.06-.94L8.5 2.5l-.94 2.06-2.06.94zm10 10l.94 2.06.94-2.06 2.06-.94-2.06-.94-.94-2.06-.94 2.06-2.06.94z\"/><path d=\"M17.41 7.96l-1.37-1.37c-.4-.4-.92-.59-1.43-.59-.52 0-1.04.2-1.43.59L10.3 9.45l-7.72 7.72c-.78.78-.78 2.05 0 2.83L4 21.41c.39.39.9.59 1.41.59.51 0 1.02-.2 1.41-.59l7.78-7.78 2.81-2.81c.8-.78.8-2.07 0-2.86zM5.41 20L4 18.59l7.72-7.72 1.47 1.35L5.41 20z\"/>\n",
              "  </svg>\n",
              "      </button>\n",
              "      \n",
              "  <style>\n",
              "    .colab-df-container {\n",
              "      display:flex;\n",
              "      flex-wrap:wrap;\n",
              "      gap: 12px;\n",
              "    }\n",
              "\n",
              "    .colab-df-convert {\n",
              "      background-color: #E8F0FE;\n",
              "      border: none;\n",
              "      border-radius: 50%;\n",
              "      cursor: pointer;\n",
              "      display: none;\n",
              "      fill: #1967D2;\n",
              "      height: 32px;\n",
              "      padding: 0 0 0 0;\n",
              "      width: 32px;\n",
              "    }\n",
              "\n",
              "    .colab-df-convert:hover {\n",
              "      background-color: #E2EBFA;\n",
              "      box-shadow: 0px 1px 2px rgba(60, 64, 67, 0.3), 0px 1px 3px 1px rgba(60, 64, 67, 0.15);\n",
              "      fill: #174EA6;\n",
              "    }\n",
              "\n",
              "    [theme=dark] .colab-df-convert {\n",
              "      background-color: #3B4455;\n",
              "      fill: #D2E3FC;\n",
              "    }\n",
              "\n",
              "    [theme=dark] .colab-df-convert:hover {\n",
              "      background-color: #434B5C;\n",
              "      box-shadow: 0px 1px 3px 1px rgba(0, 0, 0, 0.15);\n",
              "      filter: drop-shadow(0px 1px 2px rgba(0, 0, 0, 0.3));\n",
              "      fill: #FFFFFF;\n",
              "    }\n",
              "  </style>\n",
              "\n",
              "      <script>\n",
              "        const buttonEl =\n",
              "          document.querySelector('#df-fa5ac561-0d07-40fb-ae35-6769349538db button.colab-df-convert');\n",
              "        buttonEl.style.display =\n",
              "          google.colab.kernel.accessAllowed ? 'block' : 'none';\n",
              "\n",
              "        async function convertToInteractive(key) {\n",
              "          const element = document.querySelector('#df-fa5ac561-0d07-40fb-ae35-6769349538db');\n",
              "          const dataTable =\n",
              "            await google.colab.kernel.invokeFunction('convertToInteractive',\n",
              "                                                     [key], {});\n",
              "          if (!dataTable) return;\n",
              "\n",
              "          const docLinkHtml = 'Like what you see? Visit the ' +\n",
              "            '<a target=\"_blank\" href=https://colab.research.google.com/notebooks/data_table.ipynb>data table notebook</a>'\n",
              "            + ' to learn more about interactive tables.';\n",
              "          element.innerHTML = '';\n",
              "          dataTable['output_type'] = 'display_data';\n",
              "          await google.colab.output.renderOutput(dataTable, element);\n",
              "          const docLink = document.createElement('div');\n",
              "          docLink.innerHTML = docLinkHtml;\n",
              "          element.appendChild(docLink);\n",
              "        }\n",
              "      </script>\n",
              "    </div>\n",
              "  </div>\n",
              "  "
            ]
          },
          "metadata": {},
          "execution_count": 12
        }
      ]
    },
    {
      "cell_type": "code",
      "source": [
        "# read cleaned dataset\n",
        "df = pd.read_csv('/content/drive/MyDrive/CHALLENGE_PLATINUM/train_cleaned_preprocess.csv', header=0)\n",
        "\n",
        "# drop NaN and dulicate data\n",
        "df = df.dropna()\n",
        "df = df.drop_duplicates(ignore_index=True)"
      ],
      "metadata": {
        "id": "IruCSnBF5cw0"
      },
      "execution_count": null,
      "outputs": []
    },
    {
      "cell_type": "code",
      "execution_count": null,
      "metadata": {
        "id": "t_gItfTK3DWa",
        "colab": {
          "base_uri": "https://localhost:8080/",
          "height": 363
        },
        "outputId": "83ac1590-bcb1-41e0-f6df-3097bb67125f"
      },
      "outputs": [
        {
          "output_type": "execute_result",
          "data": {
            "text/plain": [
              "   Unnamed: 0                                              tweet  sentimen  \\\n",
              "0           0  mohon ulama lurus dan k212 mmbri hujjah partai...   neutral   \n",
              "1           1  lokasi strategis di jalan sumatera bandung . t...  positive   \n",
              "2           2  betapa bahagia nya diri ini saat unboxing pake...  positive   \n",
              "3           3  duh . jadi mahasiswa jangan sombong dong . kas...  negative   \n",
              "4           4  makanan beragam , harga makanan di food stall ...  positive   \n",
              "5           5  pakai kartu kredit bca tidak untung malah rugi...  negative   \n",
              "6           6  tempat unik , bagus buat foto , makanan enak ,...  positive   \n",
              "7           7  saya bersama keluarga baru saja menikmati peng...  positive   \n",
              "8           8                                          bersyukur  positive   \n",
              "9           9  simcard indosat inaktiv gara-gara lupa isi pul...  negative   \n",
              "\n",
              "                                       cleaned_tweet  \n",
              "0  mohon ulama lurus k mmbri hujjah partai diwlh ...  \n",
              "1  lokasi strategis jalan sumatra bandung nyaman ...  \n",
              "2  betapa bahagia unboxing paket barang bagus tet...  \n",
              "3  aduh mahasiswa sombong kasih kartu kuning ajar...  \n",
              "4  makan agam harga makan food stall kasir suasan...  \n",
              "5          pakai kartu kredit baca tidak_untung rugi  \n",
              "6  unik bagus foto makan enak pegawai ramah bersi...  \n",
              "7  keluarga nikmat alam kuliner senang rm sari su...  \n",
              "8                                             syukur  \n",
              "9  simcard indosat inaktiv gara gara lupa isi pul...  "
            ],
            "text/html": [
              "\n",
              "  <div id=\"df-85a8b312-bfce-4fd8-a65b-43db423da473\">\n",
              "    <div class=\"colab-df-container\">\n",
              "      <div>\n",
              "<style scoped>\n",
              "    .dataframe tbody tr th:only-of-type {\n",
              "        vertical-align: middle;\n",
              "    }\n",
              "\n",
              "    .dataframe tbody tr th {\n",
              "        vertical-align: top;\n",
              "    }\n",
              "\n",
              "    .dataframe thead th {\n",
              "        text-align: right;\n",
              "    }\n",
              "</style>\n",
              "<table border=\"1\" class=\"dataframe\">\n",
              "  <thead>\n",
              "    <tr style=\"text-align: right;\">\n",
              "      <th></th>\n",
              "      <th>Unnamed: 0</th>\n",
              "      <th>tweet</th>\n",
              "      <th>sentimen</th>\n",
              "      <th>cleaned_tweet</th>\n",
              "    </tr>\n",
              "  </thead>\n",
              "  <tbody>\n",
              "    <tr>\n",
              "      <th>0</th>\n",
              "      <td>0</td>\n",
              "      <td>mohon ulama lurus dan k212 mmbri hujjah partai...</td>\n",
              "      <td>neutral</td>\n",
              "      <td>mohon ulama lurus k mmbri hujjah partai diwlh ...</td>\n",
              "    </tr>\n",
              "    <tr>\n",
              "      <th>1</th>\n",
              "      <td>1</td>\n",
              "      <td>lokasi strategis di jalan sumatera bandung . t...</td>\n",
              "      <td>positive</td>\n",
              "      <td>lokasi strategis jalan sumatra bandung nyaman ...</td>\n",
              "    </tr>\n",
              "    <tr>\n",
              "      <th>2</th>\n",
              "      <td>2</td>\n",
              "      <td>betapa bahagia nya diri ini saat unboxing pake...</td>\n",
              "      <td>positive</td>\n",
              "      <td>betapa bahagia unboxing paket barang bagus tet...</td>\n",
              "    </tr>\n",
              "    <tr>\n",
              "      <th>3</th>\n",
              "      <td>3</td>\n",
              "      <td>duh . jadi mahasiswa jangan sombong dong . kas...</td>\n",
              "      <td>negative</td>\n",
              "      <td>aduh mahasiswa sombong kasih kartu kuning ajar...</td>\n",
              "    </tr>\n",
              "    <tr>\n",
              "      <th>4</th>\n",
              "      <td>4</td>\n",
              "      <td>makanan beragam , harga makanan di food stall ...</td>\n",
              "      <td>positive</td>\n",
              "      <td>makan agam harga makan food stall kasir suasan...</td>\n",
              "    </tr>\n",
              "    <tr>\n",
              "      <th>5</th>\n",
              "      <td>5</td>\n",
              "      <td>pakai kartu kredit bca tidak untung malah rugi...</td>\n",
              "      <td>negative</td>\n",
              "      <td>pakai kartu kredit baca tidak_untung rugi</td>\n",
              "    </tr>\n",
              "    <tr>\n",
              "      <th>6</th>\n",
              "      <td>6</td>\n",
              "      <td>tempat unik , bagus buat foto , makanan enak ,...</td>\n",
              "      <td>positive</td>\n",
              "      <td>unik bagus foto makan enak pegawai ramah bersi...</td>\n",
              "    </tr>\n",
              "    <tr>\n",
              "      <th>7</th>\n",
              "      <td>7</td>\n",
              "      <td>saya bersama keluarga baru saja menikmati peng...</td>\n",
              "      <td>positive</td>\n",
              "      <td>keluarga nikmat alam kuliner senang rm sari su...</td>\n",
              "    </tr>\n",
              "    <tr>\n",
              "      <th>8</th>\n",
              "      <td>8</td>\n",
              "      <td>bersyukur</td>\n",
              "      <td>positive</td>\n",
              "      <td>syukur</td>\n",
              "    </tr>\n",
              "    <tr>\n",
              "      <th>9</th>\n",
              "      <td>9</td>\n",
              "      <td>simcard indosat inaktiv gara-gara lupa isi pul...</td>\n",
              "      <td>negative</td>\n",
              "      <td>simcard indosat inaktiv gara gara lupa isi pul...</td>\n",
              "    </tr>\n",
              "  </tbody>\n",
              "</table>\n",
              "</div>\n",
              "      <button class=\"colab-df-convert\" onclick=\"convertToInteractive('df-85a8b312-bfce-4fd8-a65b-43db423da473')\"\n",
              "              title=\"Convert this dataframe to an interactive table.\"\n",
              "              style=\"display:none;\">\n",
              "        \n",
              "  <svg xmlns=\"http://www.w3.org/2000/svg\" height=\"24px\"viewBox=\"0 0 24 24\"\n",
              "       width=\"24px\">\n",
              "    <path d=\"M0 0h24v24H0V0z\" fill=\"none\"/>\n",
              "    <path d=\"M18.56 5.44l.94 2.06.94-2.06 2.06-.94-2.06-.94-.94-2.06-.94 2.06-2.06.94zm-11 1L8.5 8.5l.94-2.06 2.06-.94-2.06-.94L8.5 2.5l-.94 2.06-2.06.94zm10 10l.94 2.06.94-2.06 2.06-.94-2.06-.94-.94-2.06-.94 2.06-2.06.94z\"/><path d=\"M17.41 7.96l-1.37-1.37c-.4-.4-.92-.59-1.43-.59-.52 0-1.04.2-1.43.59L10.3 9.45l-7.72 7.72c-.78.78-.78 2.05 0 2.83L4 21.41c.39.39.9.59 1.41.59.51 0 1.02-.2 1.41-.59l7.78-7.78 2.81-2.81c.8-.78.8-2.07 0-2.86zM5.41 20L4 18.59l7.72-7.72 1.47 1.35L5.41 20z\"/>\n",
              "  </svg>\n",
              "      </button>\n",
              "      \n",
              "  <style>\n",
              "    .colab-df-container {\n",
              "      display:flex;\n",
              "      flex-wrap:wrap;\n",
              "      gap: 12px;\n",
              "    }\n",
              "\n",
              "    .colab-df-convert {\n",
              "      background-color: #E8F0FE;\n",
              "      border: none;\n",
              "      border-radius: 50%;\n",
              "      cursor: pointer;\n",
              "      display: none;\n",
              "      fill: #1967D2;\n",
              "      height: 32px;\n",
              "      padding: 0 0 0 0;\n",
              "      width: 32px;\n",
              "    }\n",
              "\n",
              "    .colab-df-convert:hover {\n",
              "      background-color: #E2EBFA;\n",
              "      box-shadow: 0px 1px 2px rgba(60, 64, 67, 0.3), 0px 1px 3px 1px rgba(60, 64, 67, 0.15);\n",
              "      fill: #174EA6;\n",
              "    }\n",
              "\n",
              "    [theme=dark] .colab-df-convert {\n",
              "      background-color: #3B4455;\n",
              "      fill: #D2E3FC;\n",
              "    }\n",
              "\n",
              "    [theme=dark] .colab-df-convert:hover {\n",
              "      background-color: #434B5C;\n",
              "      box-shadow: 0px 1px 3px 1px rgba(0, 0, 0, 0.15);\n",
              "      filter: drop-shadow(0px 1px 2px rgba(0, 0, 0, 0.3));\n",
              "      fill: #FFFFFF;\n",
              "    }\n",
              "  </style>\n",
              "\n",
              "      <script>\n",
              "        const buttonEl =\n",
              "          document.querySelector('#df-85a8b312-bfce-4fd8-a65b-43db423da473 button.colab-df-convert');\n",
              "        buttonEl.style.display =\n",
              "          google.colab.kernel.accessAllowed ? 'block' : 'none';\n",
              "\n",
              "        async function convertToInteractive(key) {\n",
              "          const element = document.querySelector('#df-85a8b312-bfce-4fd8-a65b-43db423da473');\n",
              "          const dataTable =\n",
              "            await google.colab.kernel.invokeFunction('convertToInteractive',\n",
              "                                                     [key], {});\n",
              "          if (!dataTable) return;\n",
              "\n",
              "          const docLinkHtml = 'Like what you see? Visit the ' +\n",
              "            '<a target=\"_blank\" href=https://colab.research.google.com/notebooks/data_table.ipynb>data table notebook</a>'\n",
              "            + ' to learn more about interactive tables.';\n",
              "          element.innerHTML = '';\n",
              "          dataTable['output_type'] = 'display_data';\n",
              "          await google.colab.output.renderOutput(dataTable, element);\n",
              "          const docLink = document.createElement('div');\n",
              "          docLink.innerHTML = docLinkHtml;\n",
              "          element.appendChild(docLink);\n",
              "        }\n",
              "      </script>\n",
              "    </div>\n",
              "  </div>\n",
              "  "
            ]
          },
          "metadata": {},
          "execution_count": 74
        }
      ],
      "source": [
        "df.head(10)"
      ]
    },
    {
      "cell_type": "markdown",
      "source": [
        "## **Cheking Cleansing Result**"
      ],
      "metadata": {
        "id": "-2SlFIM1-4-c"
      }
    },
    {
      "cell_type": "code",
      "execution_count": null,
      "metadata": {
        "colab": {
          "base_uri": "https://localhost:8080/",
          "height": 363
        },
        "id": "_j_dnQHEWD8z",
        "outputId": "1fa0eb85-3259-4f2c-cad7-09c03e3aa64a"
      },
      "outputs": [
        {
          "output_type": "execute_result",
          "data": {
            "text/plain": [
              "       Word  Frequency\n",
              "0     makan       6458\n",
              "1      enak       3684\n",
              "2     harga       2001\n",
              "3   bandung       1746\n",
              "4      menu       1735\n",
              "5    banget       1511\n",
              "6  restoran       1300\n",
              "7     layan       1260\n",
              "8     pilih       1260\n",
              "9     jalan       1013"
            ],
            "text/html": [
              "\n",
              "  <div id=\"df-1dc86cc2-29d9-409e-a7f2-82added2be9f\">\n",
              "    <div class=\"colab-df-container\">\n",
              "      <div>\n",
              "<style scoped>\n",
              "    .dataframe tbody tr th:only-of-type {\n",
              "        vertical-align: middle;\n",
              "    }\n",
              "\n",
              "    .dataframe tbody tr th {\n",
              "        vertical-align: top;\n",
              "    }\n",
              "\n",
              "    .dataframe thead th {\n",
              "        text-align: right;\n",
              "    }\n",
              "</style>\n",
              "<table border=\"1\" class=\"dataframe\">\n",
              "  <thead>\n",
              "    <tr style=\"text-align: right;\">\n",
              "      <th></th>\n",
              "      <th>Word</th>\n",
              "      <th>Frequency</th>\n",
              "    </tr>\n",
              "  </thead>\n",
              "  <tbody>\n",
              "    <tr>\n",
              "      <th>0</th>\n",
              "      <td>makan</td>\n",
              "      <td>6458</td>\n",
              "    </tr>\n",
              "    <tr>\n",
              "      <th>1</th>\n",
              "      <td>enak</td>\n",
              "      <td>3684</td>\n",
              "    </tr>\n",
              "    <tr>\n",
              "      <th>2</th>\n",
              "      <td>harga</td>\n",
              "      <td>2001</td>\n",
              "    </tr>\n",
              "    <tr>\n",
              "      <th>3</th>\n",
              "      <td>bandung</td>\n",
              "      <td>1746</td>\n",
              "    </tr>\n",
              "    <tr>\n",
              "      <th>4</th>\n",
              "      <td>menu</td>\n",
              "      <td>1735</td>\n",
              "    </tr>\n",
              "    <tr>\n",
              "      <th>5</th>\n",
              "      <td>banget</td>\n",
              "      <td>1511</td>\n",
              "    </tr>\n",
              "    <tr>\n",
              "      <th>6</th>\n",
              "      <td>restoran</td>\n",
              "      <td>1300</td>\n",
              "    </tr>\n",
              "    <tr>\n",
              "      <th>7</th>\n",
              "      <td>layan</td>\n",
              "      <td>1260</td>\n",
              "    </tr>\n",
              "    <tr>\n",
              "      <th>8</th>\n",
              "      <td>pilih</td>\n",
              "      <td>1260</td>\n",
              "    </tr>\n",
              "    <tr>\n",
              "      <th>9</th>\n",
              "      <td>jalan</td>\n",
              "      <td>1013</td>\n",
              "    </tr>\n",
              "  </tbody>\n",
              "</table>\n",
              "</div>\n",
              "      <button class=\"colab-df-convert\" onclick=\"convertToInteractive('df-1dc86cc2-29d9-409e-a7f2-82added2be9f')\"\n",
              "              title=\"Convert this dataframe to an interactive table.\"\n",
              "              style=\"display:none;\">\n",
              "        \n",
              "  <svg xmlns=\"http://www.w3.org/2000/svg\" height=\"24px\"viewBox=\"0 0 24 24\"\n",
              "       width=\"24px\">\n",
              "    <path d=\"M0 0h24v24H0V0z\" fill=\"none\"/>\n",
              "    <path d=\"M18.56 5.44l.94 2.06.94-2.06 2.06-.94-2.06-.94-.94-2.06-.94 2.06-2.06.94zm-11 1L8.5 8.5l.94-2.06 2.06-.94-2.06-.94L8.5 2.5l-.94 2.06-2.06.94zm10 10l.94 2.06.94-2.06 2.06-.94-2.06-.94-.94-2.06-.94 2.06-2.06.94z\"/><path d=\"M17.41 7.96l-1.37-1.37c-.4-.4-.92-.59-1.43-.59-.52 0-1.04.2-1.43.59L10.3 9.45l-7.72 7.72c-.78.78-.78 2.05 0 2.83L4 21.41c.39.39.9.59 1.41.59.51 0 1.02-.2 1.41-.59l7.78-7.78 2.81-2.81c.8-.78.8-2.07 0-2.86zM5.41 20L4 18.59l7.72-7.72 1.47 1.35L5.41 20z\"/>\n",
              "  </svg>\n",
              "      </button>\n",
              "      \n",
              "  <style>\n",
              "    .colab-df-container {\n",
              "      display:flex;\n",
              "      flex-wrap:wrap;\n",
              "      gap: 12px;\n",
              "    }\n",
              "\n",
              "    .colab-df-convert {\n",
              "      background-color: #E8F0FE;\n",
              "      border: none;\n",
              "      border-radius: 50%;\n",
              "      cursor: pointer;\n",
              "      display: none;\n",
              "      fill: #1967D2;\n",
              "      height: 32px;\n",
              "      padding: 0 0 0 0;\n",
              "      width: 32px;\n",
              "    }\n",
              "\n",
              "    .colab-df-convert:hover {\n",
              "      background-color: #E2EBFA;\n",
              "      box-shadow: 0px 1px 2px rgba(60, 64, 67, 0.3), 0px 1px 3px 1px rgba(60, 64, 67, 0.15);\n",
              "      fill: #174EA6;\n",
              "    }\n",
              "\n",
              "    [theme=dark] .colab-df-convert {\n",
              "      background-color: #3B4455;\n",
              "      fill: #D2E3FC;\n",
              "    }\n",
              "\n",
              "    [theme=dark] .colab-df-convert:hover {\n",
              "      background-color: #434B5C;\n",
              "      box-shadow: 0px 1px 3px 1px rgba(0, 0, 0, 0.15);\n",
              "      filter: drop-shadow(0px 1px 2px rgba(0, 0, 0, 0.3));\n",
              "      fill: #FFFFFF;\n",
              "    }\n",
              "  </style>\n",
              "\n",
              "      <script>\n",
              "        const buttonEl =\n",
              "          document.querySelector('#df-1dc86cc2-29d9-409e-a7f2-82added2be9f button.colab-df-convert');\n",
              "        buttonEl.style.display =\n",
              "          google.colab.kernel.accessAllowed ? 'block' : 'none';\n",
              "\n",
              "        async function convertToInteractive(key) {\n",
              "          const element = document.querySelector('#df-1dc86cc2-29d9-409e-a7f2-82added2be9f');\n",
              "          const dataTable =\n",
              "            await google.colab.kernel.invokeFunction('convertToInteractive',\n",
              "                                                     [key], {});\n",
              "          if (!dataTable) return;\n",
              "\n",
              "          const docLinkHtml = 'Like what you see? Visit the ' +\n",
              "            '<a target=\"_blank\" href=https://colab.research.google.com/notebooks/data_table.ipynb>data table notebook</a>'\n",
              "            + ' to learn more about interactive tables.';\n",
              "          element.innerHTML = '';\n",
              "          dataTable['output_type'] = 'display_data';\n",
              "          await google.colab.output.renderOutput(dataTable, element);\n",
              "          const docLink = document.createElement('div');\n",
              "          docLink.innerHTML = docLinkHtml;\n",
              "          element.appendChild(docLink);\n",
              "        }\n",
              "      </script>\n",
              "    </div>\n",
              "  </div>\n",
              "  "
            ]
          },
          "metadata": {},
          "execution_count": 75
        }
      ],
      "source": [
        "# checking the frequency of words\n",
        "\n",
        "new_df = df.cleaned_tweet.str.split(expand=True).stack().value_counts().reset_index()\n",
        "new_df.columns = ['Word', 'Frequency'] \n",
        "new_df.head(10)"
      ]
    },
    {
      "cell_type": "code",
      "execution_count": null,
      "metadata": {
        "colab": {
          "base_uri": "https://localhost:8080/",
          "height": 198
        },
        "id": "fz2_WSzhflGc",
        "outputId": "b81e0242-6143-4065-84cf-f57511c98404"
      },
      "outputs": [
        {
          "output_type": "display_data",
          "data": {
            "text/plain": [
              "<Figure size 432x288 with 1 Axes>"
            ],
            "image/png": "[encoded data removed]"
          },
          "metadata": {
            "needs_background": "light"
          }
        }
      ],
      "source": [
        "# checking the frequency of words using matplotlib and WordCloud\n",
        "\n",
        "import matplotlib.pyplot as plt\n",
        "from wordcloud import WordCloud\n",
        "text = ' '.join(df['cleaned_tweet'])\n",
        "wordcloud = WordCloud().generate(text)\n",
        "\n",
        "plt.imshow(wordcloud)\n",
        "plt.axis(\"off\")\n",
        "plt.show()"
      ]
    },
    {
      "cell_type": "markdown",
      "metadata": {
        "id": "VRW9pxEcBKzB"
      },
      "source": [
        "# Feature Extraction : TF-IDF"
      ]
    },
    {
      "cell_type": "code",
      "execution_count": null,
      "metadata": {
        "id": "g441vf8GTyZw"
      },
      "outputs": [],
      "source": [
        "# Convert a given array to an ordinary list with the same items, elements, or values\n",
        "\n",
        "data_clean = df.cleaned_tweet.tolist()"
      ]
    },
    {
      "cell_type": "code",
      "execution_count": null,
      "metadata": {
        "colab": {
          "base_uri": "https://localhost:8080/"
        },
        "id": "Pq8vwBxDJkh3",
        "outputId": "00304e61-5024-4f3e-8da8-d74f3a3a80ae"
      },
      "outputs": [
        {
          "output_type": "stream",
          "name": "stdout",
          "text": [
            "Feature Tf-Idf extraction : Done\n"
          ]
        }
      ],
      "source": [
        "# TfidfVectorizer to convert a collection of raw documents to a matrix of TF-IDF features\n",
        "\n",
        "from sklearn.feature_extraction.text import TfidfVectorizer\n",
        "\n",
        "# Feature Extraction processing\n",
        "tfidf_vect = TfidfVectorizer()\n",
        "tfidf_vect.fit(data_clean)\n",
        "\n",
        "# result definition \n",
        "text_transform = tfidf_vect.fit_transform(data_clean)\n",
        "print(\"Feature Tf-Idf extraction : Done\")"
      ]
    },
    {
      "cell_type": "code",
      "execution_count": null,
      "metadata": {
        "id": "qJ8ByuQLe5_i"
      },
      "outputs": [],
      "source": [
        "# Library to converting a Python object into a byte stream to store it in a file/database\n",
        "import pickle \n",
        "\n",
        "# Saved feature extraction process\n",
        "pickle.dump(tfidf_vect, open(\"/content/drive/MyDrive/CHALLENGE_PLATINUM/tf-idf_feature.pickle\", \"wb\"))"
      ]
    },
    {
      "cell_type": "markdown",
      "source": [
        "# DATA TRAINING"
      ],
      "metadata": {
        "id": "tXuimGu1DCaV"
      }
    },
    {
      "cell_type": "code",
      "execution_count": null,
      "metadata": {
        "id": "ZZgQo5pPe9V_"
      },
      "outputs": [],
      "source": [
        "# import package to split data train and test\n",
        "\n",
        "from sklearn.model_selection import train_test_split\n",
        "\n",
        "# define sentimen classification\n",
        "sentimen_classes = df.sentimen"
      ]
    },
    {
      "cell_type": "code",
      "execution_count": null,
      "metadata": {
        "id": "CGI6L4azfF2O"
      },
      "outputs": [],
      "source": [
        "# Split data set for model training (80%) and testing (20%)\n",
        "\n",
        "X_train, X_test, y_train, y_test = train_test_split(text_transform, sentimen_classes, test_size = 0.2, random_state =0)"
      ]
    },
    {
      "cell_type": "code",
      "execution_count": null,
      "metadata": {
        "colab": {
          "base_uri": "https://localhost:8080/"
        },
        "id": "6yZxu1OffKZY",
        "outputId": "db3b7048-c17e-4134-c444-dfdda9e6a504"
      },
      "outputs": [
        {
          "output_type": "stream",
          "name": "stdout",
          "text": [
            "Data Training : Done\n"
          ]
        }
      ],
      "source": [
        "# Import package for model training \n",
        "\n",
        "from sklearn.neural_network import MLPClassifier\n",
        "\n",
        "# define model and choose optimal parameter values\n",
        "def createModel():\n",
        "  model = MLPClassifier(hidden_layer_sizes=(150, 100, 50), max_iter = 300, activation='relu', solver = 'adam')\n",
        "  # model = MLPClassifier(hidden_layer_sizes=(150, 100, 50), max_iter = 300)\n",
        "  # model = MLPClassifier(hidden_layer_sizes=(100, 50), max_iter = 300,activation = 'relu', solver = 'adam')\n",
        "  # model = MLPClassifier(hidden_layer_sizes=(150,100,50), max_iter = 300, activation = 'relu', solver = 'adam')\n",
        "  return model\n",
        "model =  createModel()\n",
        "model.fit(X_train, y_train)\n",
        "\n",
        "print (\"Data Training : Done\")"
      ]
    },
    {
      "cell_type": "code",
      "execution_count": null,
      "metadata": {
        "id": "zfuaVY2df8Ar"
      },
      "outputs": [],
      "source": [
        "# Saved model training process\n",
        "pickle.dump(model, open(\"/content/drive/MyDrive/CHALLENGE_PLATINUM/tfidf_model.pickle\", \"wb\"))"
      ]
    },
    {
      "cell_type": "markdown",
      "source": [
        "# MODEL TESTING"
      ],
      "metadata": {
        "id": "xx2SnyuHfqH8"
      }
    },
    {
      "cell_type": "code",
      "execution_count": null,
      "metadata": {
        "colab": {
          "base_uri": "https://localhost:8080/"
        },
        "id": "h4qF3tQbf9ku",
        "outputId": "8e7e2bc5-ff4d-4b87-f130-425379f59aad"
      },
      "outputs": [
        {
          "output_type": "stream",
          "name": "stdout",
          "text": [
            "Testing : Done\n",
            "              precision    recall  f1-score   support\n",
            "\n",
            "    negative       0.81      0.81      0.81       696\n",
            "     neutral       0.67      0.64      0.65       226\n",
            "    positive       0.90      0.92      0.91      1264\n",
            "\n",
            "    accuracy                           0.85      2186\n",
            "   macro avg       0.80      0.79      0.79      2186\n",
            "weighted avg       0.85      0.85      0.85      2186\n",
            "\n",
            "Accuracy: 0.85\n"
          ]
        }
      ],
      "source": [
        "from sklearn.metrics import classification_report # Counting true and false predictive result\n",
        "from sklearn.metrics import accuracy_score # compute the accuracy\n",
        "\n",
        "test = model.predict(X_test) # Predict using the multi-layer perceptron classifier\n",
        "\n",
        "print (\"Testing : Done\")\n",
        "\n",
        "# print computing result\n",
        "print(classification_report(y_test, test))\n",
        "print('Accuracy: {:.2f}'.format(accuracy_score(y_test, test))) "
      ]
    },
    {
      "cell_type": "code",
      "execution_count": null,
      "metadata": {
        "colab": {
          "base_uri": "https://localhost:8080/"
        },
        "id": "HYJ2rL73gHqj",
        "outputId": "be1f8dbc-c2e3-4b25-cdf3-8a354900b5c1"
      },
      "outputs": [
        {
          "output_type": "stream",
          "name": "stdout",
          "text": [
            "Training number- 1\n",
            "              precision    recall  f1-score   support\n",
            "\n",
            "    negative       0.76      0.84      0.80       653\n",
            "     neutral       0.85      0.56      0.68       244\n",
            "    positive       0.90      0.91      0.90      1289\n",
            "\n",
            "    accuracy                           0.85      2186\n",
            "   macro avg       0.84      0.77      0.79      2186\n",
            "weighted avg       0.85      0.85      0.85      2186\n",
            "\n",
            "======================================================\n",
            "Training number- 2\n",
            "              precision    recall  f1-score   support\n",
            "\n",
            "    negative       0.85      0.75      0.79       717\n",
            "     neutral       0.64      0.63      0.64       215\n",
            "    positive       0.87      0.93      0.90      1254\n",
            "\n",
            "    accuracy                           0.84      2186\n",
            "   macro avg       0.79      0.77      0.78      2186\n",
            "weighted avg       0.84      0.84      0.84      2186\n",
            "\n",
            "======================================================\n",
            "Training number- 3\n",
            "              precision    recall  f1-score   support\n",
            "\n",
            "    negative       0.84      0.77      0.80       686\n",
            "     neutral       0.69      0.63      0.66       227\n",
            "    positive       0.88      0.94      0.91      1273\n",
            "\n",
            "    accuracy                           0.85      2186\n",
            "   macro avg       0.81      0.78      0.79      2186\n",
            "weighted avg       0.85      0.85      0.85      2186\n",
            "\n",
            "======================================================\n",
            "Training number- 4\n",
            "              precision    recall  f1-score   support\n",
            "\n",
            "    negative       0.84      0.79      0.82       706\n",
            "     neutral       0.72      0.63      0.67       231\n",
            "    positive       0.89      0.93      0.91      1249\n",
            "\n",
            "    accuracy                           0.86      2186\n",
            "   macro avg       0.82      0.79      0.80      2186\n",
            "weighted avg       0.85      0.86      0.85      2186\n",
            "\n",
            "======================================================\n",
            "Training number- 5\n",
            "              precision    recall  f1-score   support\n",
            "\n",
            "    negative       0.83      0.80      0.82       649\n",
            "     neutral       0.71      0.68      0.70       221\n",
            "    positive       0.91      0.93      0.92      1315\n",
            "\n",
            "    accuracy                           0.87      2185\n",
            "   macro avg       0.82      0.80      0.81      2185\n",
            "weighted avg       0.87      0.87      0.87      2185\n",
            "\n",
            "======================================================\n",
            "\n",
            "\n",
            "\n",
            "Rata-rata Accuracy:  0.8540593458266773\n"
          ]
        }
      ],
      "source": [
        "import numpy as np # library used for working with arrays\n",
        "from sklearn.neural_network import MLPClassifier # model training\n",
        "from sklearn.metrics import classification_report # predictive result\n",
        "from sklearn.metrics import accuracy_score # model accuracy score\n",
        "from sklearn.model_selection import KFold # cross validation method\n",
        "\n",
        "kf = KFold(n_splits=5,random_state=None,shuffle=True)\n",
        "\n",
        "accuracies = []\n",
        "\n",
        "# define x,y value\n",
        "y = sentimen_classes\n",
        "x = text_transform\n",
        "\n",
        "for iteration, data in enumerate(kf.split(x), start=1):\n",
        "\n",
        "    data_train   = x[data[0]]\n",
        "    target_train = y[data[0]]\n",
        "\n",
        "    data_test    = x[data[1]]\n",
        "    target_test  = y[data[1]]\n",
        "\n",
        "    clf = createModel()\n",
        "    clf.fit(data_train,target_train)\n",
        "\n",
        "    preds = clf.predict(data_test)\n",
        "\n",
        "     # for the current fold only \n",
        "    accuracy = accuracy_score(target_test,preds)\n",
        "\n",
        "    print(\"Training number-\", iteration)\n",
        "    print(classification_report(target_test,preds))\n",
        "    print(\"======================================================\")\n",
        "\n",
        "    accuracies.append(accuracy)\n",
        "\n",
        "# this is the average accuracy over all folds\n",
        "average_accuracy = np.mean(accuracies)\n",
        "\n",
        "print()\n",
        "print()\n",
        "print()\n",
        "print(\"Rata-rata Accuracy: \", average_accuracy)"
      ]
    },
    {
      "cell_type": "markdown",
      "source": [
        "# **Prediction** "
      ],
      "metadata": {
        "id": "A7bhW533PaEo"
      }
    },
    {
      "cell_type": "code",
      "source": [
        "# Testing model prediction\n",
        "\n",
        "original_text =  '''\n",
        "disaat semua cowok berusaha melacak perhatian gue. loe lantas remehkan perhatian yg gue kasih khusus ke elo. basic elo cowok bego ! ! !'\n",
        "'''\n",
        "\n",
        "# Feature Extraction_   ganti jadi transform\n",
        "text = tfidf_vect.transform([cleanse_text(original_text)])\n",
        "\n",
        "# Kita prediksi sentimennya\n",
        "result = model.predict(text)[0]\n",
        "\n",
        "print(\"Tweet clean:\")\n",
        "print(cleanse_text(original_text))\n",
        "print()\n",
        "print(\"Sentiment:\")\n",
        "print(result)"
      ],
      "metadata": {
        "colab": {
          "base_uri": "https://localhost:8080/"
        },
        "id": "9tIpixuq0n9q",
        "outputId": "ce09f4a2-bcfe-44f9-a04b-f73ca9c86191"
      },
      "execution_count": null,
      "outputs": [
        {
          "output_type": "stream",
          "name": "stdout",
          "text": [
            "Tweet clean:\n",
            "cowok usaha lacak perhati lantas remeh perhati kasih khusus basic cowok bego\n",
            "\n",
            "Sentiment:\n",
            "negative\n"
          ]
        }
      ]
    },
    {
      "cell_type": "markdown",
      "source": [
        "# Evaluation using confusion matrix"
      ],
      "metadata": {
        "id": "Snlu1U4o0eDL"
      }
    },
    {
      "cell_type": "code",
      "source": [
        "from sklearn.metrics import confusion_matrix\n",
        "from sklearn.metrics import plot_confusion_matrix\n",
        "from sklearn import metrics"
      ],
      "metadata": {
        "id": "aI1MlS3QUI3T"
      },
      "execution_count": null,
      "outputs": []
    },
    {
      "cell_type": "code",
      "source": [
        "\n",
        "cm = confusion_matrix(y_test, test)\n",
        "color = 'black'\n",
        "matrix = plot_confusion_matrix(model, X_test, y_test, cmap=plt.cm.Blues)\n",
        "matrix.ax_.set_title('Sentiment Analysis', color=color)\n",
        "plt.xlabel('Predicted Label', color=color)\n",
        "plt.ylabel('True Label', color=color)\n",
        "plt.gcf().axes[0].tick_params(colors=color)\n",
        "plt.gcf().axes[1].tick_params(colors=color)\n",
        "plt.show()"
      ],
      "metadata": {
        "colab": {
          "base_uri": "https://localhost:8080/",
          "height": 350
        },
        "id": "zyJG0MIT0JjK",
        "outputId": "e3d34368-7b6b-4f38-ba42-541ace3436a9"
      },
      "execution_count": null,
      "outputs": [
        {
          "output_type": "stream",
          "name": "stderr",
          "text": [
            "/usr/local/lib/python3.8/dist-packages/sklearn/utils/deprecation.py:87: FutureWarning: Function plot_confusion_matrix is deprecated; Function `plot_confusion_matrix` is deprecated in 1.0 and will be removed in 1.2. Use one of the class methods: ConfusionMatrixDisplay.from_predictions or ConfusionMatrixDisplay.from_estimator.\n",
            "  warnings.warn(msg, category=FutureWarning)\n"
          ]
        },
        {
          "output_type": "display_data",
          "data": {
            "text/plain": [
              "<Figure size 432x288 with 2 Axes>"
            ],
            "image/png": "[encoded data removed]"
          },
          "metadata": {
            "needs_background": "light"
          }
        }
      ]
    }
  ],
  "metadata": {
    "colab": {
      "provenance": [],
      "include_colab_link": true
    },
    "kernelspec": {
      "display_name": "Python 3",
      "name": "python3"
    },
    "language_info": {
      "name": "python"
    }
  },
  "nbformat": 4,
  "nbformat_minor": 0
}