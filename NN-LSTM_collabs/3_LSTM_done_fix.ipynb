{
  "cells": [
    {
      "cell_type": "markdown",
      "metadata": {
        "id": "view-in-github",
        "colab_type": "text"
      },
      "source": [
        "<a href=\"https://colab.research.google.com/github/BinarPlatinumChallenge/Sentiment-Analysis/blob/main/NN-LSTM_collabs/3_LSTM_done_fix.ipynb\" target=\"_parent\"><img src=\"https://colab.research.google.com/assets/colab-badge.svg\" alt=\"Open In Colab\"/></a>"
      ]
    },
    {
      "cell_type": "markdown",
      "source": [
        "# **PREPARE DATASET**\n",
        "\n",
        "## **Download Dataset**\n",
        "\n",
        "Raw data traning can be downloaded with this [link](https://drive.google.com/file/d/1RCHGfn9JJyyReAh8PIIoF8Ch0H3miP0u/view)\n",
        "\n",
        "Raw data set hates speech, file kamus alay dan stopwords can be downloaded in this [link](https://drive.google.com/drive/folders/1qm50pKAnzGGw9gtk--lmwR758aZOVish) "
      ],
      "metadata": {
        "id": "toD_qLIaNzse"
      }
    },
    {
      "cell_type": "code",
      "execution_count": null,
      "metadata": {
        "colab": {
          "base_uri": "https://localhost:8080/"
        },
        "id": "7PEvDQ3lZPKV",
        "outputId": "b5991b33-06f9-47ee-cc34-25ae55a2abb1"
      },
      "outputs": [
        {
          "output_type": "stream",
          "name": "stdout",
          "text": [
            "Mounted at /content/drive\n"
          ]
        }
      ],
      "source": [
        "# mounting to google drive\n",
        "\n",
        "from google.colab import drive\n",
        "drive.mount('/content/drive')"
      ]
    },
    {
      "cell_type": "code",
      "execution_count": null,
      "metadata": {
        "id": "tKCCS5YFXvNT"
      },
      "outputs": [],
      "source": [
        "# Libraries to read and analyze data frame\n",
        "# Read raw dataset used for training the model from google drive\n",
        "\n",
        "import pandas as pd\n",
        "df = pd.read_csv('/content/drive/MyDrive/CHALLENGE_PLATINUM/train_preprocess.tsv.txt', delimiter='\\t', header=0, names=['tweet','sentimen'])\n",
        "\n",
        "# Eliminated null and duplicated data\n",
        "df = df.dropna()\n",
        "df = df.drop_duplicates(ignore_index=True)"
      ]
    },
    {
      "cell_type": "markdown",
      "source": [
        "## **Text Normalization/Cleansing**"
      ],
      "metadata": {
        "id": "6thMjnYpRWoB"
      }
    },
    {
      "cell_type": "code",
      "execution_count": null,
      "metadata": {
        "colab": {
          "base_uri": "https://localhost:8080/"
        },
        "id": "TXOwOervZlLp",
        "outputId": "cd47f560-a9cf-479b-9a4f-0dba20a37f19"
      },
      "outputs": [
        {
          "output_type": "stream",
          "name": "stdout",
          "text": [
            "Looking in indexes: https://pypi.org/simple, https://us-python.pkg.dev/colab-wheels/public/simple/\n",
            "Requirement already satisfied: nltk in /usr/local/lib/python3.8/dist-packages (3.7)\n",
            "Requirement already satisfied: joblib in /usr/local/lib/python3.8/dist-packages (from nltk) (1.2.0)\n",
            "Requirement already satisfied: tqdm in /usr/local/lib/python3.8/dist-packages (from nltk) (4.64.1)\n",
            "Requirement already satisfied: click in /usr/local/lib/python3.8/dist-packages (from nltk) (8.1.3)\n",
            "Requirement already satisfied: regex>=2021.8.3 in /usr/local/lib/python3.8/dist-packages (from nltk) (2022.6.2)\n",
            "Looking in indexes: https://pypi.org/simple, https://us-python.pkg.dev/colab-wheels/public/simple/\n",
            "Collecting Sastrawi\n",
            "  Downloading Sastrawi-1.0.1-py2.py3-none-any.whl (209 kB)\n",
            "\u001b[2K     \u001b[90m━━━━━━━━━━━━━━━━━━━━━━━━━━━━━━━━━━━━━━━\u001b[0m \u001b[32m209.7/209.7 KB\u001b[0m \u001b[31m7.7 MB/s\u001b[0m eta \u001b[36m0:00:00\u001b[0m\n",
            "\u001b[?25hInstalling collected packages: Sastrawi\n",
            "Successfully installed Sastrawi-1.0.1\n"
          ]
        }
      ],
      "source": [
        "# Install libraries for stopwords\n",
        "\n",
        "!pip install nltk\n",
        "!pip install Sastrawi"
      ]
    },
    {
      "cell_type": "code",
      "source": [
        "# import library to handle stopwords using NLTK\n",
        "\n",
        "import nltk\n",
        "nltk.download('stopwords')\n",
        "from nltk.corpus import stopwords\n",
        "from nltk.tokenize import word_tokenize\n",
        "stop_words=(stopwords.words('indonesian'))\n",
        "\n",
        "# import library to handle stopwords using sastrawi\n",
        "\n",
        "from Sastrawi.StopWordRemover.StopWordRemoverFactory import StopWordRemoverFactory\n",
        "stop_factory = StopWordRemoverFactory()\n",
        "sastrawi_stop_words = stop_factory.get_stop_words()\n",
        "from Sastrawi.Stemmer.StemmerFactory import StemmerFactory\n",
        "factory = StemmerFactory()\n",
        "stemmer = factory.create_stemmer()"
      ],
      "metadata": {
        "colab": {
          "base_uri": "https://localhost:8080/"
        },
        "id": "lu-ezflOO1DW",
        "outputId": "df32eb61-02c4-4e04-ca25-a6fd07a1d68b"
      },
      "execution_count": null,
      "outputs": [
        {
          "output_type": "stream",
          "name": "stderr",
          "text": [
            "[nltk_data] Downloading package stopwords to /root/nltk_data...\n",
            "[nltk_data]   Unzipping corpora/stopwords.zip.\n"
          ]
        }
      ]
    },
    {
      "cell_type": "code",
      "source": [
        "# read data \"stopwordbahasa.csv\"\n",
        "stopword_dict = pd.read_csv('/content/drive/MyDrive/CHALLENGE_PLATINUM/stopwordbahasa.csv', header=None, names=['stopword'], encoding='latin-1')\n",
        "\n",
        "# add {'ya','yg','ga','yuk','dah','sih','gue','nya','nih'} in stopwords dict set\n",
        "# merge stopwords dictionary from NLTK, sastrawi, and raw file \"stopwordbahasa.csv\"\n",
        "stopword_dict = list(stopword_dict['stopword']) + sastrawi_stop_words + stop_words + ['ya','yg','ga','yuk','dah','sih','gue','nya','nih']\n",
        "stopword_dict = list(dict.fromkeys(stopword_dict))\n",
        "\n",
        "# eliminated word \"tidak\" from stopwords dict set to avoid changing the meaning of the sentence \n",
        "stopword_dict = filter(lambda word: word !='tidak', stopword_dict)\n",
        "stopword_dict = list(stopword_dict)\n",
        "print(len(stopword_dict))"
      ],
      "metadata": {
        "colab": {
          "base_uri": "https://localhost:8080/"
        },
        "id": "iedCxEDwPJTO",
        "outputId": "3511c4d8-59f6-47be-a994-7a78da38bf79"
      },
      "execution_count": null,
      "outputs": [
        {
          "output_type": "stream",
          "name": "stdout",
          "text": [
            "781\n"
          ]
        }
      ]
    },
    {
      "cell_type": "code",
      "source": [
        "# import library to handle stopwords using NLTK\n",
        "\n",
        "import re\n",
        "def lowercase(text): #1\n",
        "  text = text.strip() \n",
        "  return text.lower()\n",
        "\n",
        "def remove_unnecessary_char(text): #2\n",
        "  text = re.sub('\\\\+n', ' ', text) # remove every new line\n",
        "  text = re.sub('\\n',\" \",text) # remove every single new line\n",
        "  text = re.sub('\\\\+', ' ', text) # remomove unessessary character\n",
        "  text = re.sub(r'\\brt\\b','', text) # r'\\b...\\b to remove certain word, only at the beginning or end of the word for 'rt' \n",
        "  text = re.sub(r'\\buser\\b','', text) # r'\\b...\\b to remove certain word, only at the beginning or end of the word for 'user'\n",
        "  text = re.sub(r'\\burl\\b','', text)\n",
        "  text = re.sub(r'\\bnurl\\b','', text)\n",
        "  text = re.sub('&lt;/?[a-z]+&gt;', '', text) #remove special characters\n",
        "  text = re.sub('&amp', '', text) #remove ampersand character\n",
        "  text = re.sub('((www\\.[^\\s]+)|(https?://[^\\s]+)|(http?://[^\\s]+))',' ',text) # remomove unessessary character \n",
        "  text = re.sub(':', ' ', text) # remomove special character \n",
        "  text = re.sub(';', ' ', text) \n",
        "  text = re.sub('  +', ' ', text) \n",
        "  text = re.sub(r'pic.twitter.com.[\\w]+', '', text) # remomove unessessary character \n",
        "  text = re.sub(r'[^\\x00-\\x7F]+',' ', text)  \n",
        "  text = re.sub(r'‚Ä¶', '', text)  \n",
        "  to_delete = ['hypertext', 'transfer', 'protocol', 'over', 'secure', 'socket', 'layer', 'dtype', 'tweet', 'name', 'object'\n",
        "                 ,'twitter','com', 'pic'] # delete another unessessary words\n",
        "  for word in to_delete: \n",
        "      text = re.sub(word,'', text) # remove extra space\n",
        "      text = re.sub(word.upper(),' ',text)\n",
        "  return text\n",
        "\n",
        "def remove_nonaplhanumeric(text): #3\n",
        "    text = re.sub('[^0-9a-zA-Z]+', ' ', text) \n",
        "    return text\n",
        "\n",
        "def remove_emoticon_byte(text): #4\n",
        "    text = text.replace(\"\\\\\", \" \")\n",
        "    text = re.sub(r'\\bx..', ' ', text)\n",
        "    text = re.sub(' n ', ' ', text)\n",
        "    return text\n",
        "\n",
        "def remove_early_space(text): #5\n",
        "    if text[0] == ' ':\n",
        "        return text[1:]\n",
        "    else:\n",
        "        return text\n",
        "\n",
        "def remove_number(text): #6\n",
        "    text = ''.join([i for i in text if not i.isdigit()])\n",
        "    text = re.sub('  +', ' ', text)\n",
        "    text = text.strip()\n",
        "    return text\n",
        "\n",
        "# handle special word \"tidak\" --> \"tidak_\" to avoid changing the meaning of the sentance\n",
        "\n",
        "def handleTidak(text): #7\n",
        "    words = text.split(' ')\n",
        "    text = ' '.join(['tidak_' if words[i] == 'tidak' else words[i] for i in range(len(words))])\n",
        "    text = text.strip()\n",
        "    text = text.replace('tidak_ ','tidak_')\n",
        "    return text\n"
      ],
      "metadata": {
        "id": "2NWb3c9BPPwh"
      },
      "execution_count": null,
      "outputs": []
    },
    {
      "cell_type": "code",
      "source": [
        "# text normalization \n",
        "\n",
        "def normalize_alay(text): #8\n",
        "    alay_dict = pd.read_csv('/content/drive/MyDrive/CHALLENGE_PLATINUM/new_kamusalay.csv', names=['original', 'replacement'], encoding='latin-1')\n",
        "    alay_dict_map = dict(zip(alay_dict['original'], alay_dict['replacement']))\n",
        "    normalize_text = ' '.join([alay_dict_map[word] if word in alay_dict_map else word for word in text.split(' ')])\n",
        "    return normalize_text\n",
        "\n",
        "def remove_stopword(text): #9\n",
        "    text = ' '.join(['' if word in stopword_dict else word for word in text.split(' ')])\n",
        "    text = re.sub('  +', ' ', text)\n",
        "    text = text.strip()\n",
        "    return text\n",
        "\n",
        "def stemming(text): #10\n",
        "    return stemmer.stem(text)"
      ],
      "metadata": {
        "id": "9aANhIxRPOcO"
      },
      "execution_count": null,
      "outputs": []
    },
    {
      "cell_type": "code",
      "source": [
        "# text cleansing process\n",
        "\n",
        "def cleanse_text(text):\n",
        "    text = lowercase(text) #1\n",
        "    text = remove_unnecessary_char(text) #2\n",
        "    text = remove_nonaplhanumeric(text) #3\n",
        "    text = remove_emoticon_byte(text) #4\n",
        "    text = remove_early_space(text) #5\n",
        "    text = remove_number(text) #6\n",
        "    text = normalize_alay(text) #8\n",
        "    text = remove_stopword(text) #9\n",
        "    text = stemming(text) #10\n",
        "    text = handleTidak(text) #7\n",
        "    return text"
      ],
      "metadata": {
        "id": "ddy-tITTPIGI"
      },
      "execution_count": null,
      "outputs": []
    },
    {
      "cell_type": "code",
      "source": [
        "# check cleansing result\n",
        "\n",
        "text = '- disaat semua cowok berusaha melacak perhatian gue. loe lantas remehkan perhatian yg gue kasih khusus ke elo. basic elo cowok bego ! ! !'\n",
        "cleaned_text = cleanse_text(text)\n",
        "cleaned_text"
      ],
      "metadata": {
        "colab": {
          "base_uri": "https://localhost:8080/",
          "height": 35
        },
        "id": "GEQ8DVwVPfxD",
        "outputId": "49203cd2-29c7-4b48-dbd0-3e61d8d678cc"
      },
      "execution_count": null,
      "outputs": [
        {
          "output_type": "execute_result",
          "data": {
            "text/plain": [
              "'cowok usaha lacak perhati lantas remeh perhati kasih khusus basic cowok bego'"
            ],
            "application/vnd.google.colaboratory.intrinsic+json": {
              "type": "string"
            }
          },
          "metadata": {},
          "execution_count": 69
        }
      ]
    },
    {
      "cell_type": "code",
      "source": [
        "# applied data cleansing process into dataframe\n",
        "\n",
        "df['cleaned_tweet'] = df.tweet.apply(cleanse_text)"
      ],
      "metadata": {
        "id": "3XN_0jTJPk8c"
      },
      "execution_count": null,
      "outputs": []
    },
    {
      "cell_type": "markdown",
      "source": [
        "## Cheking Cleansing Result"
      ],
      "metadata": {
        "id": "JPZD9OFPP7IM"
      }
    },
    {
      "cell_type": "code",
      "source": [
        "# checking the frequency of words\n",
        "\n",
        "new_df = df.cleaned_tweet.str.split(expand=True).stack().value_counts().reset_index()\n",
        "new_df.columns = ['Word', 'Frequency'] \n",
        "new_df.head(10)"
      ],
      "metadata": {
        "id": "FTX7lmtXTTyR",
        "colab": {
          "base_uri": "https://localhost:8080/",
          "height": 363
        },
        "outputId": "5ff629e4-b013-475d-9e77-f3ec2800fb73"
      },
      "execution_count": null,
      "outputs": [
        {
          "output_type": "execute_result",
          "data": {
            "text/plain": [
              "       Word  Frequency\n",
              "0     makan       6458\n",
              "1      enak       3684\n",
              "2     harga       2001\n",
              "3   bandung       1746\n",
              "4      menu       1735\n",
              "5    banget       1511\n",
              "6  restoran       1300\n",
              "7     layan       1260\n",
              "8     pilih       1260\n",
              "9     jalan       1013"
            ],
            "text/html": [
              "\n",
              "  <div id=\"df-dc4e68d2-458c-42d4-a2c5-aac0f765aed5\">\n",
              "    <div class=\"colab-df-container\">\n",
              "      <div>\n",
              "<style scoped>\n",
              "    .dataframe tbody tr th:only-of-type {\n",
              "        vertical-align: middle;\n",
              "    }\n",
              "\n",
              "    .dataframe tbody tr th {\n",
              "        vertical-align: top;\n",
              "    }\n",
              "\n",
              "    .dataframe thead th {\n",
              "        text-align: right;\n",
              "    }\n",
              "</style>\n",
              "<table border=\"1\" class=\"dataframe\">\n",
              "  <thead>\n",
              "    <tr style=\"text-align: right;\">\n",
              "      <th></th>\n",
              "      <th>Word</th>\n",
              "      <th>Frequency</th>\n",
              "    </tr>\n",
              "  </thead>\n",
              "  <tbody>\n",
              "    <tr>\n",
              "      <th>0</th>\n",
              "      <td>makan</td>\n",
              "      <td>6458</td>\n",
              "    </tr>\n",
              "    <tr>\n",
              "      <th>1</th>\n",
              "      <td>enak</td>\n",
              "      <td>3684</td>\n",
              "    </tr>\n",
              "    <tr>\n",
              "      <th>2</th>\n",
              "      <td>harga</td>\n",
              "      <td>2001</td>\n",
              "    </tr>\n",
              "    <tr>\n",
              "      <th>3</th>\n",
              "      <td>bandung</td>\n",
              "      <td>1746</td>\n",
              "    </tr>\n",
              "    <tr>\n",
              "      <th>4</th>\n",
              "      <td>menu</td>\n",
              "      <td>1735</td>\n",
              "    </tr>\n",
              "    <tr>\n",
              "      <th>5</th>\n",
              "      <td>banget</td>\n",
              "      <td>1511</td>\n",
              "    </tr>\n",
              "    <tr>\n",
              "      <th>6</th>\n",
              "      <td>restoran</td>\n",
              "      <td>1300</td>\n",
              "    </tr>\n",
              "    <tr>\n",
              "      <th>7</th>\n",
              "      <td>layan</td>\n",
              "      <td>1260</td>\n",
              "    </tr>\n",
              "    <tr>\n",
              "      <th>8</th>\n",
              "      <td>pilih</td>\n",
              "      <td>1260</td>\n",
              "    </tr>\n",
              "    <tr>\n",
              "      <th>9</th>\n",
              "      <td>jalan</td>\n",
              "      <td>1013</td>\n",
              "    </tr>\n",
              "  </tbody>\n",
              "</table>\n",
              "</div>\n",
              "      <button class=\"colab-df-convert\" onclick=\"convertToInteractive('df-dc4e68d2-458c-42d4-a2c5-aac0f765aed5')\"\n",
              "              title=\"Convert this dataframe to an interactive table.\"\n",
              "              style=\"display:none;\">\n",
              "        \n",
              "  <svg xmlns=\"http://www.w3.org/2000/svg\" height=\"24px\"viewBox=\"0 0 24 24\"\n",
              "       width=\"24px\">\n",
              "    <path d=\"M0 0h24v24H0V0z\" fill=\"none\"/>\n",
              "    <path d=\"M18.56 5.44l.94 2.06.94-2.06 2.06-.94-2.06-.94-.94-2.06-.94 2.06-2.06.94zm-11 1L8.5 8.5l.94-2.06 2.06-.94-2.06-.94L8.5 2.5l-.94 2.06-2.06.94zm10 10l.94 2.06.94-2.06 2.06-.94-2.06-.94-.94-2.06-.94 2.06-2.06.94z\"/><path d=\"M17.41 7.96l-1.37-1.37c-.4-.4-.92-.59-1.43-.59-.52 0-1.04.2-1.43.59L10.3 9.45l-7.72 7.72c-.78.78-.78 2.05 0 2.83L4 21.41c.39.39.9.59 1.41.59.51 0 1.02-.2 1.41-.59l7.78-7.78 2.81-2.81c.8-.78.8-2.07 0-2.86zM5.41 20L4 18.59l7.72-7.72 1.47 1.35L5.41 20z\"/>\n",
              "  </svg>\n",
              "      </button>\n",
              "      \n",
              "  <style>\n",
              "    .colab-df-container {\n",
              "      display:flex;\n",
              "      flex-wrap:wrap;\n",
              "      gap: 12px;\n",
              "    }\n",
              "\n",
              "    .colab-df-convert {\n",
              "      background-color: #E8F0FE;\n",
              "      border: none;\n",
              "      border-radius: 50%;\n",
              "      cursor: pointer;\n",
              "      display: none;\n",
              "      fill: #1967D2;\n",
              "      height: 32px;\n",
              "      padding: 0 0 0 0;\n",
              "      width: 32px;\n",
              "    }\n",
              "\n",
              "    .colab-df-convert:hover {\n",
              "      background-color: #E2EBFA;\n",
              "      box-shadow: 0px 1px 2px rgba(60, 64, 67, 0.3), 0px 1px 3px 1px rgba(60, 64, 67, 0.15);\n",
              "      fill: #174EA6;\n",
              "    }\n",
              "\n",
              "    [theme=dark] .colab-df-convert {\n",
              "      background-color: #3B4455;\n",
              "      fill: #D2E3FC;\n",
              "    }\n",
              "\n",
              "    [theme=dark] .colab-df-convert:hover {\n",
              "      background-color: #434B5C;\n",
              "      box-shadow: 0px 1px 3px 1px rgba(0, 0, 0, 0.15);\n",
              "      filter: drop-shadow(0px 1px 2px rgba(0, 0, 0, 0.3));\n",
              "      fill: #FFFFFF;\n",
              "    }\n",
              "  </style>\n",
              "\n",
              "      <script>\n",
              "        const buttonEl =\n",
              "          document.querySelector('#df-dc4e68d2-458c-42d4-a2c5-aac0f765aed5 button.colab-df-convert');\n",
              "        buttonEl.style.display =\n",
              "          google.colab.kernel.accessAllowed ? 'block' : 'none';\n",
              "\n",
              "        async function convertToInteractive(key) {\n",
              "          const element = document.querySelector('#df-dc4e68d2-458c-42d4-a2c5-aac0f765aed5');\n",
              "          const dataTable =\n",
              "            await google.colab.kernel.invokeFunction('convertToInteractive',\n",
              "                                                     [key], {});\n",
              "          if (!dataTable) return;\n",
              "\n",
              "          const docLinkHtml = 'Like what you see? Visit the ' +\n",
              "            '<a target=\"_blank\" href=https://colab.research.google.com/notebooks/data_table.ipynb>data table notebook</a>'\n",
              "            + ' to learn more about interactive tables.';\n",
              "          element.innerHTML = '';\n",
              "          dataTable['output_type'] = 'display_data';\n",
              "          await google.colab.output.renderOutput(dataTable, element);\n",
              "          const docLink = document.createElement('div');\n",
              "          docLink.innerHTML = docLinkHtml;\n",
              "          element.appendChild(docLink);\n",
              "        }\n",
              "      </script>\n",
              "    </div>\n",
              "  </div>\n",
              "  "
            ]
          },
          "metadata": {},
          "execution_count": 70
        }
      ]
    },
    {
      "cell_type": "code",
      "source": [
        "# checking the frequency of words using matplotlib and WordCloud\n",
        "\n",
        "import matplotlib.pyplot as plt\n",
        "from wordcloud import WordCloud\n",
        "text = ' '.join(df['cleaned_tweet'])\n",
        "wordcloud = WordCloud().generate(text)\n",
        "\n",
        "plt.imshow(wordcloud)\n",
        "plt.axis(\"off\")\n",
        "plt.show()"
      ],
      "metadata": {
        "id": "nnza4ALETbLq",
        "colab": {
          "base_uri": "https://localhost:8080/",
          "height": 198
        },
        "outputId": "a1b3f2a9-31dc-4c2d-8614-f82d8299584e"
      },
      "execution_count": null,
      "outputs": [
        {
          "output_type": "display_data",
          "data": {
            "text/plain": [
              "<Figure size 432x288 with 1 Axes>"
            ],
            "image/png": "[encoded data removed]"
          },
          "metadata": {
            "needs_background": "light"
          }
        }
      ]
    },
    {
      "cell_type": "code",
      "execution_count": null,
      "metadata": {
        "colab": {
          "base_uri": "https://localhost:8080/",
          "height": 206
        },
        "id": "VGWqmLwbgnUI",
        "outputId": "1f205649-4426-4006-f5af-d4494e42928f"
      },
      "outputs": [
        {
          "output_type": "execute_result",
          "data": {
            "text/plain": [
              "                                               tweet  sentimen  \\\n",
              "0  mohon ulama lurus dan k212 mmbri hujjah partai...   neutral   \n",
              "1  lokasi strategis di jalan sumatera bandung . t...  positive   \n",
              "2  betapa bahagia nya diri ini saat unboxing pake...  positive   \n",
              "3  duh . jadi mahasiswa jangan sombong dong . kas...  negative   \n",
              "4  makanan beragam , harga makanan di food stall ...  positive   \n",
              "\n",
              "                                       cleaned_tweet  \n",
              "0  mohon ulama lurus k mmbri hujjah partai diwlh ...  \n",
              "1  lokasi strategis jalan sumatra bandung nyaman ...  \n",
              "2  betapa bahagia unboxing paket barang bagus tet...  \n",
              "3  aduh mahasiswa sombong kasih kartu kuning ajar...  \n",
              "4  makan agam harga makan food stall kasir suasan...  "
            ],
            "text/html": [
              "\n",
              "  <div id=\"df-d67bea7a-00ea-4935-a5db-edc8e3b3b3e1\">\n",
              "    <div class=\"colab-df-container\">\n",
              "      <div>\n",
              "<style scoped>\n",
              "    .dataframe tbody tr th:only-of-type {\n",
              "        vertical-align: middle;\n",
              "    }\n",
              "\n",
              "    .dataframe tbody tr th {\n",
              "        vertical-align: top;\n",
              "    }\n",
              "\n",
              "    .dataframe thead th {\n",
              "        text-align: right;\n",
              "    }\n",
              "</style>\n",
              "<table border=\"1\" class=\"dataframe\">\n",
              "  <thead>\n",
              "    <tr style=\"text-align: right;\">\n",
              "      <th></th>\n",
              "      <th>tweet</th>\n",
              "      <th>sentimen</th>\n",
              "      <th>cleaned_tweet</th>\n",
              "    </tr>\n",
              "  </thead>\n",
              "  <tbody>\n",
              "    <tr>\n",
              "      <th>0</th>\n",
              "      <td>mohon ulama lurus dan k212 mmbri hujjah partai...</td>\n",
              "      <td>neutral</td>\n",
              "      <td>mohon ulama lurus k mmbri hujjah partai diwlh ...</td>\n",
              "    </tr>\n",
              "    <tr>\n",
              "      <th>1</th>\n",
              "      <td>lokasi strategis di jalan sumatera bandung . t...</td>\n",
              "      <td>positive</td>\n",
              "      <td>lokasi strategis jalan sumatra bandung nyaman ...</td>\n",
              "    </tr>\n",
              "    <tr>\n",
              "      <th>2</th>\n",
              "      <td>betapa bahagia nya diri ini saat unboxing pake...</td>\n",
              "      <td>positive</td>\n",
              "      <td>betapa bahagia unboxing paket barang bagus tet...</td>\n",
              "    </tr>\n",
              "    <tr>\n",
              "      <th>3</th>\n",
              "      <td>duh . jadi mahasiswa jangan sombong dong . kas...</td>\n",
              "      <td>negative</td>\n",
              "      <td>aduh mahasiswa sombong kasih kartu kuning ajar...</td>\n",
              "    </tr>\n",
              "    <tr>\n",
              "      <th>4</th>\n",
              "      <td>makanan beragam , harga makanan di food stall ...</td>\n",
              "      <td>positive</td>\n",
              "      <td>makan agam harga makan food stall kasir suasan...</td>\n",
              "    </tr>\n",
              "  </tbody>\n",
              "</table>\n",
              "</div>\n",
              "      <button class=\"colab-df-convert\" onclick=\"convertToInteractive('df-d67bea7a-00ea-4935-a5db-edc8e3b3b3e1')\"\n",
              "              title=\"Convert this dataframe to an interactive table.\"\n",
              "              style=\"display:none;\">\n",
              "        \n",
              "  <svg xmlns=\"http://www.w3.org/2000/svg\" height=\"24px\"viewBox=\"0 0 24 24\"\n",
              "       width=\"24px\">\n",
              "    <path d=\"M0 0h24v24H0V0z\" fill=\"none\"/>\n",
              "    <path d=\"M18.56 5.44l.94 2.06.94-2.06 2.06-.94-2.06-.94-.94-2.06-.94 2.06-2.06.94zm-11 1L8.5 8.5l.94-2.06 2.06-.94-2.06-.94L8.5 2.5l-.94 2.06-2.06.94zm10 10l.94 2.06.94-2.06 2.06-.94-2.06-.94-.94-2.06-.94 2.06-2.06.94z\"/><path d=\"M17.41 7.96l-1.37-1.37c-.4-.4-.92-.59-1.43-.59-.52 0-1.04.2-1.43.59L10.3 9.45l-7.72 7.72c-.78.78-.78 2.05 0 2.83L4 21.41c.39.39.9.59 1.41.59.51 0 1.02-.2 1.41-.59l7.78-7.78 2.81-2.81c.8-.78.8-2.07 0-2.86zM5.41 20L4 18.59l7.72-7.72 1.47 1.35L5.41 20z\"/>\n",
              "  </svg>\n",
              "      </button>\n",
              "      \n",
              "  <style>\n",
              "    .colab-df-container {\n",
              "      display:flex;\n",
              "      flex-wrap:wrap;\n",
              "      gap: 12px;\n",
              "    }\n",
              "\n",
              "    .colab-df-convert {\n",
              "      background-color: #E8F0FE;\n",
              "      border: none;\n",
              "      border-radius: 50%;\n",
              "      cursor: pointer;\n",
              "      display: none;\n",
              "      fill: #1967D2;\n",
              "      height: 32px;\n",
              "      padding: 0 0 0 0;\n",
              "      width: 32px;\n",
              "    }\n",
              "\n",
              "    .colab-df-convert:hover {\n",
              "      background-color: #E2EBFA;\n",
              "      box-shadow: 0px 1px 2px rgba(60, 64, 67, 0.3), 0px 1px 3px 1px rgba(60, 64, 67, 0.15);\n",
              "      fill: #174EA6;\n",
              "    }\n",
              "\n",
              "    [theme=dark] .colab-df-convert {\n",
              "      background-color: #3B4455;\n",
              "      fill: #D2E3FC;\n",
              "    }\n",
              "\n",
              "    [theme=dark] .colab-df-convert:hover {\n",
              "      background-color: #434B5C;\n",
              "      box-shadow: 0px 1px 3px 1px rgba(0, 0, 0, 0.15);\n",
              "      filter: drop-shadow(0px 1px 2px rgba(0, 0, 0, 0.3));\n",
              "      fill: #FFFFFF;\n",
              "    }\n",
              "  </style>\n",
              "\n",
              "      <script>\n",
              "        const buttonEl =\n",
              "          document.querySelector('#df-d67bea7a-00ea-4935-a5db-edc8e3b3b3e1 button.colab-df-convert');\n",
              "        buttonEl.style.display =\n",
              "          google.colab.kernel.accessAllowed ? 'block' : 'none';\n",
              "\n",
              "        async function convertToInteractive(key) {\n",
              "          const element = document.querySelector('#df-d67bea7a-00ea-4935-a5db-edc8e3b3b3e1');\n",
              "          const dataTable =\n",
              "            await google.colab.kernel.invokeFunction('convertToInteractive',\n",
              "                                                     [key], {});\n",
              "          if (!dataTable) return;\n",
              "\n",
              "          const docLinkHtml = 'Like what you see? Visit the ' +\n",
              "            '<a target=\"_blank\" href=https://colab.research.google.com/notebooks/data_table.ipynb>data table notebook</a>'\n",
              "            + ' to learn more about interactive tables.';\n",
              "          element.innerHTML = '';\n",
              "          dataTable['output_type'] = 'display_data';\n",
              "          await google.colab.output.renderOutput(dataTable, element);\n",
              "          const docLink = document.createElement('div');\n",
              "          docLink.innerHTML = docLinkHtml;\n",
              "          element.appendChild(docLink);\n",
              "        }\n",
              "      </script>\n",
              "    </div>\n",
              "  </div>\n",
              "  "
            ]
          },
          "metadata": {},
          "execution_count": 15
        }
      ],
      "source": [
        "# save clean dataset to google drive\n",
        "\n",
        "df.to_csv('/content/drive/MyDrive/CHALLENGE_PLATINUM/train_cleaned_preprocess.csv', header = True)\n",
        "df.head()"
      ]
    },
    {
      "cell_type": "markdown",
      "source": [
        "# **Feature Extraction**\n",
        "\n",
        "To speed up data normalization process, we can open the data file that has been cleaned by the following [link](https://drive.google.com/file/d/13psC1vvL2UyEc0cuQfC-O7lnV3zlIBcD/view?usp=sharing)"
      ],
      "metadata": {
        "id": "PSTGXcWJTdov"
      }
    },
    {
      "cell_type": "code",
      "source": [
        "# Read data yang sudah di cleansing\n",
        "import pandas as pd\n",
        "\n",
        "df = pd.read_csv('/content/drive/MyDrive/CHALLENGE_PLATINUM/train_cleaned_preprocess.csv', header=0, names=['tweet','sentimen', 'cleaned_tweet'])\n",
        "df = df.dropna()\n",
        "df = df.drop_duplicates(ignore_index=True)\n",
        "df.head()"
      ],
      "metadata": {
        "colab": {
          "base_uri": "https://localhost:8080/",
          "height": 206
        },
        "id": "X3nDWVLOWXjL",
        "outputId": "486baf51-e62a-422c-d40e-14bc30cddb21"
      },
      "execution_count": null,
      "outputs": [
        {
          "output_type": "execute_result",
          "data": {
            "text/plain": [
              "                                               tweet  sentimen  \\\n",
              "0  mohon ulama lurus dan k212 mmbri hujjah partai...   neutral   \n",
              "1  lokasi strategis di jalan sumatera bandung . t...  positive   \n",
              "2  betapa bahagia nya diri ini saat unboxing pake...  positive   \n",
              "3  duh . jadi mahasiswa jangan sombong dong . kas...  negative   \n",
              "4  makanan beragam , harga makanan di food stall ...  positive   \n",
              "\n",
              "                                       cleaned_tweet  \n",
              "0  mohon ulama lurus k mmbri hujjah partai diwlh ...  \n",
              "1  lokasi strategis jalan sumatra bandung nyaman ...  \n",
              "2  betapa bahagia unboxing paket barang bagus tet...  \n",
              "3  aduh mahasiswa sombong kasih kartu kuning ajar...  \n",
              "4  makan agam harga makan food stall kasir suasan...  "
            ],
            "text/html": [
              "\n",
              "  <div id=\"df-b94df109-5ea0-4cd5-b5ee-d54a0d54d17a\">\n",
              "    <div class=\"colab-df-container\">\n",
              "      <div>\n",
              "<style scoped>\n",
              "    .dataframe tbody tr th:only-of-type {\n",
              "        vertical-align: middle;\n",
              "    }\n",
              "\n",
              "    .dataframe tbody tr th {\n",
              "        vertical-align: top;\n",
              "    }\n",
              "\n",
              "    .dataframe thead th {\n",
              "        text-align: right;\n",
              "    }\n",
              "</style>\n",
              "<table border=\"1\" class=\"dataframe\">\n",
              "  <thead>\n",
              "    <tr style=\"text-align: right;\">\n",
              "      <th></th>\n",
              "      <th>tweet</th>\n",
              "      <th>sentimen</th>\n",
              "      <th>cleaned_tweet</th>\n",
              "    </tr>\n",
              "  </thead>\n",
              "  <tbody>\n",
              "    <tr>\n",
              "      <th>0</th>\n",
              "      <td>mohon ulama lurus dan k212 mmbri hujjah partai...</td>\n",
              "      <td>neutral</td>\n",
              "      <td>mohon ulama lurus k mmbri hujjah partai diwlh ...</td>\n",
              "    </tr>\n",
              "    <tr>\n",
              "      <th>1</th>\n",
              "      <td>lokasi strategis di jalan sumatera bandung . t...</td>\n",
              "      <td>positive</td>\n",
              "      <td>lokasi strategis jalan sumatra bandung nyaman ...</td>\n",
              "    </tr>\n",
              "    <tr>\n",
              "      <th>2</th>\n",
              "      <td>betapa bahagia nya diri ini saat unboxing pake...</td>\n",
              "      <td>positive</td>\n",
              "      <td>betapa bahagia unboxing paket barang bagus tet...</td>\n",
              "    </tr>\n",
              "    <tr>\n",
              "      <th>3</th>\n",
              "      <td>duh . jadi mahasiswa jangan sombong dong . kas...</td>\n",
              "      <td>negative</td>\n",
              "      <td>aduh mahasiswa sombong kasih kartu kuning ajar...</td>\n",
              "    </tr>\n",
              "    <tr>\n",
              "      <th>4</th>\n",
              "      <td>makanan beragam , harga makanan di food stall ...</td>\n",
              "      <td>positive</td>\n",
              "      <td>makan agam harga makan food stall kasir suasan...</td>\n",
              "    </tr>\n",
              "  </tbody>\n",
              "</table>\n",
              "</div>\n",
              "      <button class=\"colab-df-convert\" onclick=\"convertToInteractive('df-b94df109-5ea0-4cd5-b5ee-d54a0d54d17a')\"\n",
              "              title=\"Convert this dataframe to an interactive table.\"\n",
              "              style=\"display:none;\">\n",
              "        \n",
              "  <svg xmlns=\"http://www.w3.org/2000/svg\" height=\"24px\"viewBox=\"0 0 24 24\"\n",
              "       width=\"24px\">\n",
              "    <path d=\"M0 0h24v24H0V0z\" fill=\"none\"/>\n",
              "    <path d=\"M18.56 5.44l.94 2.06.94-2.06 2.06-.94-2.06-.94-.94-2.06-.94 2.06-2.06.94zm-11 1L8.5 8.5l.94-2.06 2.06-.94-2.06-.94L8.5 2.5l-.94 2.06-2.06.94zm10 10l.94 2.06.94-2.06 2.06-.94-2.06-.94-.94-2.06-.94 2.06-2.06.94z\"/><path d=\"M17.41 7.96l-1.37-1.37c-.4-.4-.92-.59-1.43-.59-.52 0-1.04.2-1.43.59L10.3 9.45l-7.72 7.72c-.78.78-.78 2.05 0 2.83L4 21.41c.39.39.9.59 1.41.59.51 0 1.02-.2 1.41-.59l7.78-7.78 2.81-2.81c.8-.78.8-2.07 0-2.86zM5.41 20L4 18.59l7.72-7.72 1.47 1.35L5.41 20z\"/>\n",
              "  </svg>\n",
              "      </button>\n",
              "      \n",
              "  <style>\n",
              "    .colab-df-container {\n",
              "      display:flex;\n",
              "      flex-wrap:wrap;\n",
              "      gap: 12px;\n",
              "    }\n",
              "\n",
              "    .colab-df-convert {\n",
              "      background-color: #E8F0FE;\n",
              "      border: none;\n",
              "      border-radius: 50%;\n",
              "      cursor: pointer;\n",
              "      display: none;\n",
              "      fill: #1967D2;\n",
              "      height: 32px;\n",
              "      padding: 0 0 0 0;\n",
              "      width: 32px;\n",
              "    }\n",
              "\n",
              "    .colab-df-convert:hover {\n",
              "      background-color: #E2EBFA;\n",
              "      box-shadow: 0px 1px 2px rgba(60, 64, 67, 0.3), 0px 1px 3px 1px rgba(60, 64, 67, 0.15);\n",
              "      fill: #174EA6;\n",
              "    }\n",
              "\n",
              "    [theme=dark] .colab-df-convert {\n",
              "      background-color: #3B4455;\n",
              "      fill: #D2E3FC;\n",
              "    }\n",
              "\n",
              "    [theme=dark] .colab-df-convert:hover {\n",
              "      background-color: #434B5C;\n",
              "      box-shadow: 0px 1px 3px 1px rgba(0, 0, 0, 0.15);\n",
              "      filter: drop-shadow(0px 1px 2px rgba(0, 0, 0, 0.3));\n",
              "      fill: #FFFFFF;\n",
              "    }\n",
              "  </style>\n",
              "\n",
              "      <script>\n",
              "        const buttonEl =\n",
              "          document.querySelector('#df-b94df109-5ea0-4cd5-b5ee-d54a0d54d17a button.colab-df-convert');\n",
              "        buttonEl.style.display =\n",
              "          google.colab.kernel.accessAllowed ? 'block' : 'none';\n",
              "\n",
              "        async function convertToInteractive(key) {\n",
              "          const element = document.querySelector('#df-b94df109-5ea0-4cd5-b5ee-d54a0d54d17a');\n",
              "          const dataTable =\n",
              "            await google.colab.kernel.invokeFunction('convertToInteractive',\n",
              "                                                     [key], {});\n",
              "          if (!dataTable) return;\n",
              "\n",
              "          const docLinkHtml = 'Like what you see? Visit the ' +\n",
              "            '<a target=\"_blank\" href=https://colab.research.google.com/notebooks/data_table.ipynb>data table notebook</a>'\n",
              "            + ' to learn more about interactive tables.';\n",
              "          element.innerHTML = '';\n",
              "          dataTable['output_type'] = 'display_data';\n",
              "          await google.colab.output.renderOutput(dataTable, element);\n",
              "          const docLink = document.createElement('div');\n",
              "          docLink.innerHTML = docLinkHtml;\n",
              "          element.appendChild(docLink);\n",
              "        }\n",
              "      </script>\n",
              "    </div>\n",
              "  </div>\n",
              "  "
            ]
          },
          "metadata": {},
          "execution_count": 45
        }
      ]
    },
    {
      "cell_type": "code",
      "execution_count": null,
      "metadata": {
        "colab": {
          "base_uri": "https://localhost:8080/"
        },
        "id": "0kQmh3rIgpzY",
        "outputId": "c0d1b3fb-e9a7-4aeb-84cf-1c378b4e6c40"
      },
      "outputs": [
        {
          "output_type": "stream",
          "name": "stdout",
          "text": [
            "Pos: 6380, Neu: 1138, Neg: 3411\n",
            "Total data: 10929\n"
          ]
        }
      ],
      "source": [
        "# Convert a given array to an ordinary list with the same items, elements, or values\n",
        "\n",
        "neg = df.loc[df['sentimen'] == 'negative'].cleaned_tweet.tolist()\n",
        "neu = df.loc[df['sentimen'] == 'neutral'].cleaned_tweet.tolist()\n",
        "pos = df.loc[df['sentimen'] == 'positive'].cleaned_tweet.tolist()\n",
        "\n",
        "neg_label = df.loc[df['sentimen'] == 'negative'].sentimen.tolist()\n",
        "neu_label = df.loc[df['sentimen'] == 'neutral'].sentimen.tolist()\n",
        "pos_label = df.loc[df['sentimen'] == 'positive'].sentimen.tolist()\n",
        "\n",
        "total_data = pos + neu + neg\n",
        "labels = pos_label + neu_label + neg_label\n",
        "print(\"Pos: %s, Neu: %s, Neg: %s\" % (len(pos), len(neu), len(neg)))\n",
        "print(\"Total data: %s\" % len(total_data))"
      ]
    },
    {
      "cell_type": "code",
      "execution_count": null,
      "metadata": {
        "colab": {
          "base_uri": "https://localhost:8080/"
        },
        "id": "vAY65YgpjL73",
        "outputId": "dd42b9ff-36a9-42ea-b8c9-141ec18d80bf"
      },
      "outputs": [
        {
          "output_type": "stream",
          "name": "stdout",
          "text": [
            "tokenizer.pickle has created!\n",
            "x_pad_sequences.pickle has created!\n"
          ]
        }
      ],
      "source": [
        "# Library pickle for saving data and process\n",
        "# Tokenizer and pad_squences from library tensorflow for feature extraction process\n",
        "import pickle\n",
        "from tensorflow.keras.preprocessing.text import Tokenizer\n",
        "from tensorflow.keras.preprocessing.sequence import pad_sequences\n",
        "from collections import defaultdict\n",
        "\n",
        "max_features = 60000\n",
        "tokenizer = Tokenizer(num_words=max_features, split=' ', lower=True)\n",
        "tokenizer.fit_on_texts(total_data)\n",
        "\n",
        "# saving pickle file in google drive \n",
        "with open('/content/drive/MyDrive/CHALLENGE_PLATINUM/Pickle_resource/tokenizer.pickle', 'wb') as handle:\n",
        "    pickle.dump(tokenizer, handle) # protocol=pickle.HIGHEST_PROTOCOL hapus\n",
        "    print(\"tokenizer.pickle has created!\")\n",
        "\n",
        "# tokenizer module definition\n",
        "X = tokenizer.texts_to_sequences(total_data)\n",
        "\n",
        "vocab_size = len(tokenizer.word_index)\n",
        "maxlen = max(len(x) for x in X)\n",
        "\n",
        "# pad squenseces module definition\n",
        "X = pad_sequences(X)\n",
        "\n",
        "# saving pickle file in google drive \n",
        "with open('/content/drive/MyDrive/CHALLENGE_PLATINUM/Pickle_resource/x_pad_sequences.pickle', 'wb') as handle:\n",
        "    pickle.dump(X, handle) # hapus\n",
        "    print(\"x_pad_sequences.pickle has created!\")"
      ]
    },
    {
      "cell_type": "code",
      "execution_count": null,
      "metadata": {
        "colab": {
          "base_uri": "https://localhost:8080/"
        },
        "id": "DFSDu2RGkEnu",
        "outputId": "18534bcd-0d05-45b0-a15d-93de76c95119"
      },
      "outputs": [
        {
          "output_type": "stream",
          "name": "stdout",
          "text": [
            "y_labels.pickle has created!\n"
          ]
        }
      ],
      "source": [
        "# input data label to Y variable\n",
        "\n",
        "Y = pd.get_dummies(labels)\n",
        "Y = Y.values\n",
        "\n",
        "# saving pickle file in google drive \n",
        "with open('/content/drive/MyDrive/CHALLENGE_PLATINUM/Pickle_resource/y_labels.pickle', 'wb') as handle:\n",
        "    pickle.dump(Y, handle)\n",
        "    print(\"y_labels.pickle has created!\")"
      ]
    },
    {
      "cell_type": "code",
      "execution_count": null,
      "metadata": {
        "id": "HW0nvT2gkHDS"
      },
      "outputs": [],
      "source": [
        "from sklearn.model_selection import train_test_split\n",
        "\n",
        "# variable x = saving data text \n",
        "file = open(\"/content/drive/MyDrive/CHALLENGE_PLATINUM/Pickle_resource/x_pad_sequences.pickle\",'rb')\n",
        "X = pickle.load(file)\n",
        "file.close()\n",
        "\n",
        "# variable y = saving data label\n",
        "file = open(\"/content/drive/MyDrive/CHALLENGE_PLATINUM/Pickle_resource/y_labels.pickle\",'rb')\n",
        "Y = pickle.load(file)\n",
        "file.close()\n",
        "\n",
        "# splitting dataset to data train (80%); and data test (20%)\n",
        "X_train, X_test, y_train, y_test = train_test_split(X, Y, test_size=0.2, random_state=0)"
      ]
    },
    {
      "cell_type": "markdown",
      "source": [
        "# **DATA TRAININGM : LSTM Method**"
      ],
      "metadata": {
        "id": "jisaT0LYvI9A"
      }
    },
    {
      "cell_type": "code",
      "execution_count": null,
      "metadata": {
        "id": "WNzf5I44kKDt"
      },
      "outputs": [],
      "source": [
        "# import numpy and tensorflow framework\n",
        "\n",
        "import numpy as np\n",
        "from tensorflow.keras import layers\n",
        "from tensorflow.keras.models import Sequential\n",
        "from tensorflow.keras.layers import Dense, Embedding, LSTM, SpatialDropout1D, SimpleRNN, Activation\n",
        "from tensorflow.keras import optimizers\n",
        "from tensorflow.keras.callbacks import EarlyStopping, TensorBoard\n",
        "from tensorflow.keras.layers import Flatten\n",
        "from tensorflow.keras import backend as K\n"
      ]
    },
    {
      "cell_type": "code",
      "execution_count": null,
      "metadata": {
        "colab": {
          "base_uri": "https://localhost:8080/"
        },
        "id": "w4WsM7gxkOTq",
        "outputId": "2b4899d3-f538-4674-fe16-f2d69a02d780"
      },
      "outputs": [
        {
          "output_type": "stream",
          "name": "stdout",
          "text": [
            "Model: \"sequential_26\"\n",
            "_________________________________________________________________\n",
            " Layer (type)                Output Shape              Param #   \n",
            "=================================================================\n",
            " embedding_26 (Embedding)    (None, 54, 32)            1920000   \n",
            "                                                                 \n",
            " lstm_26 (LSTM)              (None, 32)                8320      \n",
            "                                                                 \n",
            " dense_26 (Dense)            (None, 3)                 99        \n",
            "                                                                 \n",
            "=================================================================\n",
            "Total params: 1,928,419\n",
            "Trainable params: 1,928,419\n",
            "Non-trainable params: 0\n",
            "_________________________________________________________________\n",
            "None\n",
            "Epoch 1/10\n",
            "69/69 [==============================] - 8s 77ms/step - loss: 0.7781 - accuracy: 0.6469 - val_loss: 0.6003 - val_accuracy: 0.7653\n",
            "Epoch 2/10\n",
            "69/69 [==============================] - 6s 86ms/step - loss: 0.5396 - accuracy: 0.7794 - val_loss: 0.5130 - val_accuracy: 0.7964\n",
            "Epoch 3/10\n",
            "69/69 [==============================] - 4s 63ms/step - loss: 0.4509 - accuracy: 0.8188 - val_loss: 0.4611 - val_accuracy: 0.8047\n",
            "Epoch 4/10\n",
            "69/69 [==============================] - 4s 61ms/step - loss: 0.3709 - accuracy: 0.8566 - val_loss: 0.4424 - val_accuracy: 0.8129\n",
            "Epoch 5/10\n",
            "69/69 [==============================] - 6s 84ms/step - loss: 0.3079 - accuracy: 0.8903 - val_loss: 0.4038 - val_accuracy: 0.8440\n",
            "Epoch 6/10\n",
            "69/69 [==============================] - 4s 62ms/step - loss: 0.2684 - accuracy: 0.9064 - val_loss: 0.3852 - val_accuracy: 0.8490\n",
            "Epoch 7/10\n",
            "69/69 [==============================] - 4s 63ms/step - loss: 0.2414 - accuracy: 0.9157 - val_loss: 0.3884 - val_accuracy: 0.8458\n",
            "Epoch 8/10\n",
            "69/69 [==============================] - 6s 84ms/step - loss: 0.2124 - accuracy: 0.9301 - val_loss: 0.4016 - val_accuracy: 0.8550\n",
            "Epoch 9/10\n",
            "69/69 [==============================] - 4s 61ms/step - loss: 0.1920 - accuracy: 0.9340 - val_loss: 0.4197 - val_accuracy: 0.8513\n",
            "Epoch 10/10\n",
            "69/69 [==============================] - 4s 61ms/step - loss: 0.1729 - accuracy: 0.9427 - val_loss: 0.4375 - val_accuracy: 0.8445\n"
          ]
        }
      ],
      "source": [
        "# define input layer and unit layer\n",
        "\n",
        "def createModel(embed_dim = 32, units = 32):\n",
        "  model = Sequential()\n",
        "  model.add(Embedding(max_features, embed_dim, input_length=X.shape[1]))\n",
        "  model.add(LSTM(units, dropout=0.2)) # Feature dropuot to minimize overfitting\n",
        "  model.add(Dense(3,activation='softmax')) # Softmax activation\n",
        "  model.compile(loss = 'binary_crossentropy', optimizer='RMSprop',metrics = ['accuracy'])\n",
        "  print(model.summary())\n",
        "\n",
        "  optimizer = optimizers.RMSprop(learning_rate = 0.001)\n",
        "  model.compile(loss = 'categorical_crossentropy', optimizer = optimizer, metrics = ['accuracy'])\n",
        "\n",
        "  # Earlystopping\n",
        "  es = EarlyStopping(monitor='val_loss', mode='min', patience=20, verbose=1)\n",
        "  history = model.fit(X_train, y_train, epochs=10, batch_size=128, validation_data=(X_test, y_test), verbose=1, callbacks=[es])\n",
        "  return model, history\n",
        "\n",
        "model, history = createModel()\n"
      ]
    },
    {
      "cell_type": "markdown",
      "source": [
        "## Model training report and evaluation"
      ],
      "metadata": {
        "id": "mRSI8WUggYx2"
      }
    },
    {
      "cell_type": "code",
      "execution_count": null,
      "metadata": {
        "colab": {
          "base_uri": "https://localhost:8080/"
        },
        "id": "JkiUE30MnH5b",
        "outputId": "22bb7d66-8938-4439-9ca3-19f0f0e08827"
      },
      "outputs": [
        {
          "output_type": "stream",
          "name": "stdout",
          "text": [
            "69/69 [==============================] - 2s 11ms/step\n",
            "Testing selesai\n",
            "              precision    recall  f1-score   support\n",
            "\n",
            "           0       0.81      0.78      0.79       694\n",
            "           1       0.65      0.77      0.70       231\n",
            "           2       0.90      0.90      0.90      1261\n",
            "\n",
            "    accuracy                           0.84      2186\n",
            "   macro avg       0.79      0.81      0.80      2186\n",
            "weighted avg       0.85      0.84      0.85      2186\n",
            "\n"
          ]
        }
      ],
      "source": [
        "from sklearn import metrics\n",
        "\n",
        "predictions = model.predict(X_test)\n",
        "y_pred = predictions\n",
        "matrix_test = metrics.classification_report(y_test.argmax(axis=1), y_pred.argmax(axis=1))\n",
        "print(\"Testing selesai\")\n",
        "print(matrix_test)"
      ]
    },
    {
      "cell_type": "markdown",
      "source": [
        "# CROSS VALIDATION"
      ],
      "metadata": {
        "id": "vxXYzmCih5K9"
      }
    },
    {
      "cell_type": "code",
      "execution_count": null,
      "metadata": {
        "colab": {
          "base_uri": "https://localhost:8080/"
        },
        "id": "7DuyeWoYnSwz",
        "outputId": "7772f564-292f-440b-e42c-750a0ecd21f7"
      },
      "outputs": [
        {
          "output_type": "stream",
          "name": "stdout",
          "text": [
            "Model: \"sequential_27\"\n",
            "_________________________________________________________________\n",
            " Layer (type)                Output Shape              Param #   \n",
            "=================================================================\n",
            " embedding_27 (Embedding)    (None, 54, 32)            1920000   \n",
            "                                                                 \n",
            " lstm_27 (LSTM)              (None, 32)                8320      \n",
            "                                                                 \n",
            " dense_27 (Dense)            (None, 3)                 99        \n",
            "                                                                 \n",
            "=================================================================\n",
            "Total params: 1,928,419\n",
            "Trainable params: 1,928,419\n",
            "Non-trainable params: 0\n",
            "_________________________________________________________________\n",
            "None\n",
            "Epoch 1/10\n",
            "69/69 [==============================] - 12s 79ms/step - loss: 0.8264 - accuracy: 0.6413 - val_loss: 0.6771 - val_accuracy: 0.7077\n",
            "Epoch 2/10\n",
            "69/69 [==============================] - 5s 73ms/step - loss: 0.5817 - accuracy: 0.7686 - val_loss: 0.5457 - val_accuracy: 0.7845\n",
            "Epoch 3/10\n",
            "69/69 [==============================] - 5s 76ms/step - loss: 0.4915 - accuracy: 0.7961 - val_loss: 0.4873 - val_accuracy: 0.8060\n",
            "Epoch 4/10\n",
            "69/69 [==============================] - 4s 63ms/step - loss: 0.4087 - accuracy: 0.8382 - val_loss: 0.4383 - val_accuracy: 0.8385\n",
            "Epoch 5/10\n",
            "69/69 [==============================] - 6s 81ms/step - loss: 0.3409 - accuracy: 0.8766 - val_loss: 0.3964 - val_accuracy: 0.8454\n",
            "Epoch 6/10\n",
            "69/69 [==============================] - 5s 69ms/step - loss: 0.2889 - accuracy: 0.9020 - val_loss: 0.3863 - val_accuracy: 0.8445\n",
            "Epoch 7/10\n",
            "69/69 [==============================] - 4s 63ms/step - loss: 0.2546 - accuracy: 0.9143 - val_loss: 0.4171 - val_accuracy: 0.8312\n",
            "Epoch 8/10\n",
            "69/69 [==============================] - 6s 82ms/step - loss: 0.2279 - accuracy: 0.9219 - val_loss: 0.3900 - val_accuracy: 0.8504\n",
            "Epoch 9/10\n",
            "69/69 [==============================] - 5s 67ms/step - loss: 0.2033 - accuracy: 0.9308 - val_loss: 0.3915 - val_accuracy: 0.8509\n",
            "Epoch 10/10\n",
            "69/69 [==============================] - 4s 64ms/step - loss: 0.1851 - accuracy: 0.9379 - val_loss: 0.4034 - val_accuracy: 0.8522\n",
            "69/69 [==============================] - 1s 9ms/step\n",
            "Training ke- 1\n",
            "              precision    recall  f1-score   support\n",
            "\n",
            "           0       0.80      0.81      0.80       694\n",
            "           1       0.78      0.69      0.73       231\n",
            "           2       0.90      0.91      0.90      1261\n",
            "\n",
            "    accuracy                           0.85      2186\n",
            "   macro avg       0.82      0.80      0.81      2186\n",
            "weighted avg       0.85      0.85      0.85      2186\n",
            "\n",
            "======================================================\n",
            "Model: \"sequential_28\"\n",
            "_________________________________________________________________\n",
            " Layer (type)                Output Shape              Param #   \n",
            "=================================================================\n",
            " embedding_28 (Embedding)    (None, 54, 32)            1920000   \n",
            "                                                                 \n",
            " lstm_28 (LSTM)              (None, 32)                8320      \n",
            "                                                                 \n",
            " dense_28 (Dense)            (None, 3)                 99        \n",
            "                                                                 \n",
            "=================================================================\n",
            "Total params: 1,928,419\n",
            "Trainable params: 1,928,419\n",
            "Non-trainable params: 0\n",
            "_________________________________________________________________\n",
            "None\n",
            "Epoch 1/10\n",
            "69/69 [==============================] - 10s 96ms/step - loss: 0.8032 - accuracy: 0.6470 - val_loss: 0.6259 - val_accuracy: 0.7731\n",
            "Epoch 2/10\n",
            "69/69 [==============================] - 4s 64ms/step - loss: 0.5519 - accuracy: 0.7774 - val_loss: 0.5494 - val_accuracy: 0.7740\n",
            "Epoch 3/10\n",
            "69/69 [==============================] - 4s 62ms/step - loss: 0.4621 - accuracy: 0.8062 - val_loss: 0.4540 - val_accuracy: 0.8083\n",
            "Epoch 4/10\n",
            "69/69 [==============================] - 6s 83ms/step - loss: 0.3748 - accuracy: 0.8575 - val_loss: 0.4047 - val_accuracy: 0.8376\n",
            "Epoch 5/10\n",
            "69/69 [==============================] - 5s 66ms/step - loss: 0.3136 - accuracy: 0.8912 - val_loss: 0.3877 - val_accuracy: 0.8536\n",
            "Epoch 6/10\n",
            "69/69 [==============================] - 4s 63ms/step - loss: 0.2727 - accuracy: 0.9066 - val_loss: 0.3744 - val_accuracy: 0.8573\n",
            "Epoch 7/10\n",
            "69/69 [==============================] - 6s 84ms/step - loss: 0.2409 - accuracy: 0.9175 - val_loss: 0.3906 - val_accuracy: 0.8527\n",
            "Epoch 8/10\n",
            "69/69 [==============================] - 4s 63ms/step - loss: 0.2148 - accuracy: 0.9266 - val_loss: 0.3929 - val_accuracy: 0.8477\n",
            "Epoch 9/10\n",
            "69/69 [==============================] - 4s 63ms/step - loss: 0.1980 - accuracy: 0.9317 - val_loss: 0.3882 - val_accuracy: 0.8564\n",
            "Epoch 10/10\n",
            "69/69 [==============================] - 6s 84ms/step - loss: 0.1763 - accuracy: 0.9402 - val_loss: 0.4090 - val_accuracy: 0.8500\n",
            "69/69 [==============================] - 1s 9ms/step\n",
            "Training ke- 2\n",
            "              precision    recall  f1-score   support\n",
            "\n",
            "           0       0.77      0.85      0.80       694\n",
            "           1       0.78      0.66      0.72       231\n",
            "           2       0.91      0.89      0.90      1261\n",
            "\n",
            "    accuracy                           0.85      2186\n",
            "   macro avg       0.82      0.80      0.81      2186\n",
            "weighted avg       0.85      0.85      0.85      2186\n",
            "\n",
            "======================================================\n",
            "Model: \"sequential_29\"\n",
            "_________________________________________________________________\n",
            " Layer (type)                Output Shape              Param #   \n",
            "=================================================================\n",
            " embedding_29 (Embedding)    (None, 54, 32)            1920000   \n",
            "                                                                 \n",
            " lstm_29 (LSTM)              (None, 32)                8320      \n",
            "                                                                 \n",
            " dense_29 (Dense)            (None, 3)                 99        \n",
            "                                                                 \n",
            "=================================================================\n",
            "Total params: 1,928,419\n",
            "Trainable params: 1,928,419\n",
            "Non-trainable params: 0\n",
            "_________________________________________________________________\n",
            "None\n",
            "Epoch 1/10\n",
            "69/69 [==============================] - 8s 75ms/step - loss: 0.7952 - accuracy: 0.6538 - val_loss: 0.6200 - val_accuracy: 0.7617\n",
            "Epoch 2/10\n",
            "69/69 [==============================] - 5s 78ms/step - loss: 0.5537 - accuracy: 0.7788 - val_loss: 0.5208 - val_accuracy: 0.7850\n",
            "Epoch 3/10\n",
            "69/69 [==============================] - 4s 61ms/step - loss: 0.4766 - accuracy: 0.7977 - val_loss: 0.4817 - val_accuracy: 0.7891\n",
            "Epoch 4/10\n",
            "69/69 [==============================] - 5s 73ms/step - loss: 0.3999 - accuracy: 0.8392 - val_loss: 0.4312 - val_accuracy: 0.8230\n",
            "Epoch 5/10\n",
            "69/69 [==============================] - 5s 72ms/step - loss: 0.3312 - accuracy: 0.8807 - val_loss: 0.3968 - val_accuracy: 0.8513\n",
            "Epoch 6/10\n",
            "69/69 [==============================] - 4s 62ms/step - loss: 0.2831 - accuracy: 0.9020 - val_loss: 0.3867 - val_accuracy: 0.8495\n",
            "Epoch 7/10\n",
            "69/69 [==============================] - 4s 61ms/step - loss: 0.2510 - accuracy: 0.9132 - val_loss: 0.3768 - val_accuracy: 0.8554\n",
            "Epoch 8/10\n",
            "69/69 [==============================] - 6s 80ms/step - loss: 0.2190 - accuracy: 0.9269 - val_loss: 0.3876 - val_accuracy: 0.8532\n",
            "Epoch 9/10\n",
            "69/69 [==============================] - 4s 58ms/step - loss: 0.1984 - accuracy: 0.9314 - val_loss: 0.3984 - val_accuracy: 0.8486\n",
            "Epoch 10/10\n",
            "69/69 [==============================] - 5s 67ms/step - loss: 0.1807 - accuracy: 0.9389 - val_loss: 0.4861 - val_accuracy: 0.8243\n",
            "69/69 [==============================] - 2s 11ms/step\n",
            "Training ke- 3\n",
            "              precision    recall  f1-score   support\n",
            "\n",
            "           0       0.69      0.89      0.78       694\n",
            "           1       0.80      0.64      0.71       231\n",
            "           2       0.94      0.82      0.87      1261\n",
            "\n",
            "    accuracy                           0.82      2186\n",
            "   macro avg       0.81      0.78      0.79      2186\n",
            "weighted avg       0.84      0.82      0.83      2186\n",
            "\n",
            "======================================================\n",
            "Model: \"sequential_30\"\n",
            "_________________________________________________________________\n",
            " Layer (type)                Output Shape              Param #   \n",
            "=================================================================\n",
            " embedding_30 (Embedding)    (None, 54, 32)            1920000   \n",
            "                                                                 \n",
            " lstm_30 (LSTM)              (None, 32)                8320      \n",
            "                                                                 \n",
            " dense_30 (Dense)            (None, 3)                 99        \n",
            "                                                                 \n",
            "=================================================================\n",
            "Total params: 1,928,419\n",
            "Trainable params: 1,928,419\n",
            "Non-trainable params: 0\n",
            "_________________________________________________________________\n",
            "None\n",
            "Epoch 1/10\n",
            "69/69 [==============================] - 9s 76ms/step - loss: 0.8088 - accuracy: 0.6300 - val_loss: 0.6460 - val_accuracy: 0.7521\n",
            "Epoch 2/10\n",
            "69/69 [==============================] - 6s 83ms/step - loss: 0.5752 - accuracy: 0.7718 - val_loss: 0.5332 - val_accuracy: 0.7850\n",
            "Epoch 3/10\n",
            "69/69 [==============================] - 4s 62ms/step - loss: 0.4696 - accuracy: 0.8072 - val_loss: 0.4727 - val_accuracy: 0.8207\n",
            "Epoch 4/10\n",
            "69/69 [==============================] - 4s 64ms/step - loss: 0.3826 - accuracy: 0.8583 - val_loss: 0.4125 - val_accuracy: 0.8248\n",
            "Epoch 5/10\n",
            "69/69 [==============================] - 6s 85ms/step - loss: 0.3263 - accuracy: 0.8847 - val_loss: 0.4198 - val_accuracy: 0.8257\n",
            "Epoch 6/10\n",
            "69/69 [==============================] - 4s 63ms/step - loss: 0.2778 - accuracy: 0.9030 - val_loss: 0.3817 - val_accuracy: 0.8591\n",
            "Epoch 7/10\n",
            "69/69 [==============================] - 4s 64ms/step - loss: 0.2431 - accuracy: 0.9187 - val_loss: 0.3785 - val_accuracy: 0.8614\n",
            "Epoch 8/10\n",
            "69/69 [==============================] - 6s 85ms/step - loss: 0.2179 - accuracy: 0.9241 - val_loss: 0.3820 - val_accuracy: 0.8646\n",
            "Epoch 9/10\n",
            "69/69 [==============================] - 4s 63ms/step - loss: 0.1990 - accuracy: 0.9332 - val_loss: 0.3907 - val_accuracy: 0.8614\n",
            "Epoch 10/10\n",
            "69/69 [==============================] - 4s 63ms/step - loss: 0.1769 - accuracy: 0.9401 - val_loss: 0.4154 - val_accuracy: 0.8600\n",
            "69/69 [==============================] - 1s 9ms/step\n",
            "Training ke- 4\n",
            "              precision    recall  f1-score   support\n",
            "\n",
            "           0       0.78      0.85      0.81       694\n",
            "           1       0.79      0.73      0.76       231\n",
            "           2       0.92      0.89      0.91      1261\n",
            "\n",
            "    accuracy                           0.86      2186\n",
            "   macro avg       0.83      0.82      0.83      2186\n",
            "weighted avg       0.86      0.86      0.86      2186\n",
            "\n",
            "======================================================\n",
            "Model: \"sequential_31\"\n",
            "_________________________________________________________________\n",
            " Layer (type)                Output Shape              Param #   \n",
            "=================================================================\n",
            " embedding_31 (Embedding)    (None, 54, 32)            1920000   \n",
            "                                                                 \n",
            " lstm_31 (LSTM)              (None, 32)                8320      \n",
            "                                                                 \n",
            " dense_31 (Dense)            (None, 3)                 99        \n",
            "                                                                 \n",
            "=================================================================\n",
            "Total params: 1,928,419\n",
            "Trainable params: 1,928,419\n",
            "Non-trainable params: 0\n",
            "_________________________________________________________________\n",
            "None\n",
            "Epoch 1/10\n",
            "69/69 [==============================] - 9s 94ms/step - loss: 0.8017 - accuracy: 0.6632 - val_loss: 0.6514 - val_accuracy: 0.7420\n",
            "Epoch 2/10\n",
            "69/69 [==============================] - 4s 64ms/step - loss: 0.5775 - accuracy: 0.7734 - val_loss: 0.5477 - val_accuracy: 0.7813\n",
            "Epoch 3/10\n",
            "69/69 [==============================] - 4s 62ms/step - loss: 0.4816 - accuracy: 0.7980 - val_loss: 0.4719 - val_accuracy: 0.8019\n",
            "Epoch 4/10\n",
            "69/69 [==============================] - 6s 82ms/step - loss: 0.3972 - accuracy: 0.8438 - val_loss: 0.4253 - val_accuracy: 0.8156\n",
            "Epoch 5/10\n",
            "69/69 [==============================] - 4s 63ms/step - loss: 0.3321 - accuracy: 0.8816 - val_loss: 0.3917 - val_accuracy: 0.8477\n",
            "Epoch 6/10\n",
            "69/69 [==============================] - 4s 61ms/step - loss: 0.2830 - accuracy: 0.9042 - val_loss: 0.3774 - val_accuracy: 0.8564\n",
            "Epoch 7/10\n",
            "69/69 [==============================] - 6s 83ms/step - loss: 0.2491 - accuracy: 0.9155 - val_loss: 0.3869 - val_accuracy: 0.8527\n",
            "Epoch 8/10\n",
            "69/69 [==============================] - 4s 63ms/step - loss: 0.2212 - accuracy: 0.9261 - val_loss: 0.3803 - val_accuracy: 0.8637\n",
            "Epoch 9/10\n",
            "69/69 [==============================] - 4s 65ms/step - loss: 0.1980 - accuracy: 0.9349 - val_loss: 0.3968 - val_accuracy: 0.8577\n",
            "Epoch 10/10\n",
            "69/69 [==============================] - 6s 81ms/step - loss: 0.1815 - accuracy: 0.9402 - val_loss: 0.4031 - val_accuracy: 0.8518\n",
            "69/69 [==============================] - 1s 9ms/step\n",
            "Training ke- 5\n",
            "              precision    recall  f1-score   support\n",
            "\n",
            "           0       0.83      0.77      0.80       694\n",
            "           1       0.70      0.79      0.74       231\n",
            "           2       0.89      0.91      0.90      1261\n",
            "\n",
            "    accuracy                           0.85      2186\n",
            "   macro avg       0.81      0.82      0.81      2186\n",
            "weighted avg       0.85      0.85      0.85      2186\n",
            "\n",
            "======================================================\n",
            "\n",
            "\n",
            "\n",
            "Rata-rata Accuracy:  0.8476669716376943\n"
          ]
        }
      ],
      "source": [
        "import numpy as np\n",
        "from sklearn.metrics import classification_report\n",
        "from sklearn.metrics import accuracy_score\n",
        "from sklearn.model_selection import KFold\n",
        "\n",
        "kf = KFold(n_splits=5,random_state=0,shuffle=True)\n",
        "\n",
        "accuracies = []\n",
        "\n",
        "y = Y\n",
        "\n",
        "for iteration, data in enumerate(kf.split(X), start=1):\n",
        "\n",
        "    data_train   = X[data[0]]\n",
        "    target_train = y[data[0]]\n",
        "\n",
        "    data_test    = X[data[1]]\n",
        "    target_test  = y[data[1]]\n",
        "\n",
        "    model, history = createModel()\n",
        "\n",
        "    predictions = model.predict(X_test)\n",
        "    y_pred = predictions\n",
        "\n",
        "    # for the current fold only    \n",
        "    accuracy = accuracy_score(y_test.argmax(axis=1), y_pred.argmax(axis=1))\n",
        "\n",
        "    print(\"Training ke-\", iteration)\n",
        "    print(classification_report(y_test.argmax(axis=1), y_pred.argmax(axis=1)))\n",
        "    print(\"======================================================\")\n",
        "\n",
        "    accuracies.append(accuracy)\n",
        "\n",
        "# this is the average accuracy over all folds\n",
        "average_accuracy = np.mean(accuracies)\n",
        "\n",
        "print()\n",
        "print()\n",
        "print()\n",
        "print(\"Rata-rata Accuracy: \", average_accuracy)"
      ]
    },
    {
      "cell_type": "code",
      "execution_count": null,
      "metadata": {
        "colab": {
          "base_uri": "https://localhost:8080/",
          "height": 337
        },
        "id": "umlktUhfzOVV",
        "outputId": "93ba618a-878e-4a9f-dcfa-1677b0dfd5f1"
      },
      "outputs": [
        {
          "output_type": "display_data",
          "data": {
            "text/plain": [
              "<Figure size 864x360 with 2 Axes>"
            ],
            "image/png": "[encoded data removed]"
          },
          "metadata": {
            "needs_background": "light"
          }
        }
      ],
      "source": [
        "# history.history\n",
        "import matplotlib.pyplot as plt\n",
        "plt.style.use('ggplot')\n",
        "\n",
        "def plot_history(history):\n",
        "    acc = history.history['accuracy']\n",
        "    val_acc = history.history['val_accuracy']\n",
        "    loss = history.history['loss']\n",
        "    val_loss = history.history['val_loss']\n",
        "    x = range(1, len(acc) + 1)\n",
        "\n",
        "    plt.figure(figsize=(12, 5))\n",
        "    plt.subplot(1, 2, 1)\n",
        "    plt.plot(x, acc, 'b', label='Training acc')\n",
        "    plt.plot(x, val_acc, 'r', label='Validation acc')\n",
        "    plt.title('Training and validation accuracy')\n",
        "    plt.legend()\n",
        "    plt.subplot(1, 2, 2)\n",
        "    plt.plot(x, loss, 'b', label='Training loss')\n",
        "    plt.plot(x, val_loss, 'r', label='Validation loss')\n",
        "    plt.title('Training and validation loss')\n",
        "    plt.legend()\n",
        "\n",
        "%matplotlib inline\n",
        "plot_history(history)"
      ]
    },
    {
      "cell_type": "code",
      "execution_count": null,
      "metadata": {
        "colab": {
          "base_uri": "https://localhost:8080/"
        },
        "id": "lMrXA8G4zb-q",
        "outputId": "3ea9c2d1-d056-4bb1-cc77-d2625f060f7e"
      },
      "outputs": [
        {
          "output_type": "stream",
          "name": "stdout",
          "text": [
            "Model has created!\n"
          ]
        }
      ],
      "source": [
        "model.save('/content/drive/MyDrive/CHALLENGE_PLATINUM/Pickle_resource/model.h5')\n",
        "print(\"Model has created!\")"
      ]
    },
    {
      "cell_type": "code",
      "execution_count": null,
      "metadata": {
        "colab": {
          "base_uri": "https://localhost:8080/"
        },
        "id": "H6WXtbG6zUSZ",
        "outputId": "c8858703-26f6-4dbb-ad55-903a52bf52ea"
      },
      "outputs": [
        {
          "output_type": "stream",
          "name": "stdout",
          "text": [
            "1/1 [==============================] - 1s 1s/step\n",
            "[[0.19857551 0.77900046 0.02242395]]\n",
            "Text:  cowok usaha lacak perhati lantas remeh perhati kasih khusus basic cowok bego\n",
            "Sentiment:  neutral\n"
          ]
        }
      ],
      "source": [
        "import re \n",
        "from keras.models import load_model\n",
        "\n",
        "input_text = \"\"\"\n",
        "disaat semua cowok berusaha melacak perhatian gue. loe lantas remehkan perhatian yg gue kasih khusus ke elo. basic elo cowok bego ! ! !'\n",
        "\"\"\"\n",
        "\n",
        "sentiment = ['negative', 'neutral', 'positive']\n",
        "\n",
        "text = [cleanse_text(input_text)] \n",
        "predicted = tokenizer.texts_to_sequences(text)\n",
        "guess = pad_sequences(predicted, maxlen=X.shape[1])\n",
        "\n",
        "model = load_model('/content/drive/MyDrive/CHALLENGE_PLATINUM/Pickle_resource/model.h5')\n",
        "prediction = model.predict(guess)\n",
        "print(prediction)\n",
        "polarity = np.argmax(prediction[0])\n",
        "\n",
        "print(\"Text: \",text[0])\n",
        "print(\"Sentiment: \",sentiment[polarity])"
      ]
    },
    {
      "cell_type": "code",
      "source": [],
      "metadata": {
        "id": "ZeDkkpsGpxrs"
      },
      "execution_count": null,
      "outputs": []
    }
  ],
  "metadata": {
    "colab": {
      "provenance": [],
      "include_colab_link": true
    },
    "kernelspec": {
      "display_name": "Python 3",
      "name": "python3"
    },
    "language_info": {
      "name": "python"
    }
  },
  "nbformat": 4,
  "nbformat_minor": 0
}